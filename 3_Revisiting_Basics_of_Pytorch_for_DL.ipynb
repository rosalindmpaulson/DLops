{
  "cells": [
    {
      "cell_type": "markdown",
      "metadata": {
        "id": "view-in-github",
        "colab_type": "text"
      },
      "source": [
        "<a href=\"https://colab.research.google.com/github/rosalindmpaulson/DLops/blob/main/3_Revisiting_Basics_of_Pytorch_for_DL.ipynb\" target=\"_parent\"><img src=\"https://colab.research.google.com/assets/colab-badge.svg\" alt=\"Open In Colab\"/></a>"
      ]
    },
    {
      "cell_type": "code",
      "execution_count": null,
      "metadata": {
        "id": "dlgov0KthVtb"
      },
      "outputs": [],
      "source": [
        "# For tips on running notebooks in Google Colab, see\n",
        "# https://pytorch.org/tutorials/beginner/colab\n",
        "%matplotlib inline"
      ]
    },
    {
      "cell_type": "markdown",
      "metadata": {
        "id": "PDSsQiS8hVtc"
      },
      "source": [
        "\n",
        "# Quickstart\n",
        "This section runs through the API for common tasks in machine learning. Refer to the links in each section to dive deeper.\n",
        "\n",
        "## Working with data\n",
        "PyTorch has two [primitives to work with data](https://pytorch.org/docs/stable/data.html):\n",
        "``torch.utils.data.DataLoader`` and ``torch.utils.data.Dataset``.\n",
        "``Dataset`` stores the samples and their corresponding labels, and ``DataLoader`` wraps an iterable around\n",
        "the ``Dataset``.\n"
      ]
    },
    {
      "cell_type": "code",
      "execution_count": null,
      "metadata": {
        "id": "qUbk0YGahVte"
      },
      "outputs": [],
      "source": [
        "import torch\n",
        "from torch import nn\n",
        "from torch.utils.data import DataLoader\n",
        "from torchvision import datasets\n",
        "from torchvision.transforms import ToTensor"
      ]
    },
    {
      "cell_type": "markdown",
      "metadata": {
        "id": "jETmb6W2hVte"
      },
      "source": [
        "PyTorch offers domain-specific libraries such as [TorchText](https://pytorch.org/text/stable/index.html),\n",
        "[TorchVision](https://pytorch.org/vision/stable/index.html), and [TorchAudio](https://pytorch.org/audio/stable/index.html),\n",
        "all of which include datasets. For this tutorial, we  will be using a TorchVision dataset.\n",
        "\n",
        "The ``torchvision.datasets`` module contains ``Dataset`` objects for many real-world vision data like\n",
        "CIFAR, COCO ([full list here](https://pytorch.org/vision/stable/datasets.html)). In this tutorial, we\n",
        "use the FashionMNIST dataset. Every TorchVision ``Dataset`` includes two arguments: ``transform`` and\n",
        "``target_transform`` to modify the samples and labels respectively.\n",
        "\n"
      ]
    },
    {
      "cell_type": "code",
      "execution_count": null,
      "metadata": {
        "id": "H73HLsNXhVtf"
      },
      "outputs": [],
      "source": [
        "# Download training data from open datasets.\n",
        "training_data = datasets.FashionMNIST(\n",
        "    root=\"data\",\n",
        "    train=True,\n",
        "    download=True,\n",
        "    transform=ToTensor(),\n",
        ")\n",
        "\n",
        "# Download test data from open datasets.\n",
        "test_data = datasets.FashionMNIST(\n",
        "    root=\"data\",\n",
        "    train=False,\n",
        "    download=True,\n",
        "    transform=ToTensor(),\n",
        ")"
      ]
    },
    {
      "cell_type": "code",
      "source": [],
      "metadata": {
        "id": "rQtsfpiUqNRM"
      },
      "execution_count": null,
      "outputs": []
    },
    {
      "cell_type": "markdown",
      "metadata": {
        "id": "YxL91dsghVtf"
      },
      "source": [
        "We pass the ``Dataset`` as an argument to ``DataLoader``. This wraps an iterable over our dataset, and supports\n",
        "automatic batching, sampling, shuffling and multiprocess data loading. Here we define a batch size of 64, i.e. each element\n",
        "in the dataloader iterable will return a batch of 64 features and labels.\n",
        "\n"
      ]
    },
    {
      "cell_type": "code",
      "execution_count": null,
      "metadata": {
        "id": "r6w7vnTBhVtg",
        "colab": {
          "base_uri": "https://localhost:8080/"
        },
        "outputId": "f14bb009-8ee8-4e75-b427-e9f2d215a0f6"
      },
      "outputs": [
        {
          "output_type": "stream",
          "name": "stdout",
          "text": [
            "Shape of X [N, C, H, W]: torch.Size([16, 1, 28, 28])\n",
            "Shape of y: torch.Size([16]) torch.int64\n"
          ]
        }
      ],
      "source": [
        "batch_size = 16\n",
        "\n",
        "# Create data loaders.\n",
        "train_dataloader = DataLoader(training_data, batch_size=batch_size)\n",
        "test_dataloader = DataLoader(test_data, batch_size=batch_size)\n",
        "\n",
        "for X, y in test_dataloader:\n",
        "    print(f\"Shape of X [N, C, H, W]: {X.shape}\")\n",
        "    print(f\"Shape of y: {y.shape} {y.dtype}\")\n",
        "    break"
      ]
    },
    {
      "cell_type": "markdown",
      "metadata": {
        "id": "DM1GP5ffhVtg"
      },
      "source": [
        "Read more about [loading data in PyTorch](data_tutorial.html).\n",
        "\n",
        "\n"
      ]
    },
    {
      "cell_type": "markdown",
      "metadata": {
        "id": "FoEAhdbJhVth"
      },
      "source": [
        "--------------\n",
        "\n",
        "\n"
      ]
    },
    {
      "cell_type": "markdown",
      "metadata": {
        "id": "FmgiHA-QhVti"
      },
      "source": [
        "## Creating Models\n",
        "To define a neural network in PyTorch, we create a class that inherits\n",
        "from [nn.Module](https://pytorch.org/docs/stable/generated/torch.nn.Module.html). We define the layers of the network\n",
        "in the ``__init__`` function and specify how data will pass through the network in the ``forward`` function. To accelerate\n",
        "operations in the neural network, we move it to the GPU or MPS if available.\n",
        "\n"
      ]
    },
    {
      "cell_type": "code",
      "execution_count": null,
      "metadata": {
        "id": "uPpkhHIxhVti",
        "colab": {
          "base_uri": "https://localhost:8080/"
        },
        "outputId": "7c1e88ed-545a-42ee-83ba-b19b74bc9324"
      },
      "outputs": [
        {
          "output_type": "stream",
          "name": "stdout",
          "text": [
            "Using cuda device\n",
            "NeuralNetwork(\n",
            "  (flatten): Flatten(start_dim=1, end_dim=-1)\n",
            "  (fc1): Linear(in_features=784, out_features=512, bias=True)\n",
            "  (r1): ReLU()\n",
            "  (fc2): Linear(in_features=512, out_features=512, bias=True)\n",
            "  (r2): ReLU()\n",
            "  (fc2_): Linear(in_features=512, out_features=512, bias=True)\n",
            "  (r2_): ReLU()\n",
            "  (fc3): Linear(in_features=512, out_features=10, bias=True)\n",
            ")\n"
          ]
        }
      ],
      "source": [
        "# Get cpu, gpu or mps device for training.\n",
        "device = (\n",
        "    \"cuda\"\n",
        "    if torch.cuda.is_available()\n",
        "    else \"mps\"\n",
        "    if torch.backends.mps.is_available()\n",
        "    else \"cpu\"\n",
        ")\n",
        "print(f\"Using {device} device\")\n",
        "\n",
        "# Define model\n",
        "class NeuralNetwork(nn.Module):\n",
        "    def __init__(self):\n",
        "        super().__init__()\n",
        "        self.flatten = nn.Flatten()\n",
        "        # self.linear_relu_stack = nn.Sequential(\n",
        "        #     nn.Linear(28*28, 512),\n",
        "        #     nn.ReLU(),\n",
        "        #     nn.Linear(512, 512),\n",
        "        #     nn.ReLU(),\n",
        "        #     nn.Linear(512, 10)\n",
        "        # )\n",
        "        self.fc1 = nn.Linear(28*28, 512)\n",
        "        self.r1 = nn.ReLU()\n",
        "        self.fc2 =nn.Linear(512, 512)\n",
        "        self.r2 = nn.ReLU()\n",
        "        self.fc2_ =nn.Linear(512, 512)\n",
        "        self.r2_ = nn.ReLU()\n",
        "        self.fc3 = nn.Linear(512, 10)\n",
        "\n",
        "    def forward(self, x):\n",
        "        # print(x.shape)\n",
        "        x = self.flatten(x)\n",
        "        x = self.fc1(x)\n",
        "        x = self.r1(x)\n",
        "        x = self.fc2(x)\n",
        "        x = self.r2(x)\n",
        "        x = self.fc2_(x)\n",
        "        x = self.r2_(x)\n",
        "        logits = self.fc3(x)\n",
        "        # logits = self.linear_relu_stack(x)\n",
        "        return logits\n",
        "\n",
        "model = NeuralNetwork().to(device)\n",
        "print(model)"
      ]
    },
    {
      "cell_type": "markdown",
      "metadata": {
        "id": "OvlGfPQqhVtj"
      },
      "source": [
        "Read more about [building neural networks in PyTorch](buildmodel_tutorial.html).\n",
        "\n",
        "\n"
      ]
    },
    {
      "cell_type": "markdown",
      "metadata": {
        "id": "E14k5u5qhVtj"
      },
      "source": [
        "--------------\n",
        "\n",
        "\n"
      ]
    },
    {
      "cell_type": "markdown",
      "metadata": {
        "id": "VdIXu4J8hVtj"
      },
      "source": [
        "## Optimizing the Model Parameters\n",
        "To train a model, we need a [loss function](https://pytorch.org/docs/stable/nn.html#loss-functions)\n",
        "and an [optimizer](https://pytorch.org/docs/stable/optim.html).\n",
        "\n"
      ]
    },
    {
      "cell_type": "code",
      "execution_count": null,
      "metadata": {
        "id": "GBattd45hVtj"
      },
      "outputs": [],
      "source": [
        "loss_fn = nn.CrossEntropyLoss()\n",
        "optimizer = torch.optim.SGD(model.parameters(), lr=1e-3)"
      ]
    },
    {
      "cell_type": "markdown",
      "metadata": {
        "id": "snZ11glDhVtk"
      },
      "source": [
        "In a single training loop, the model makes predictions on the training dataset (fed to it in batches), and\n",
        "backpropagates the prediction error to adjust the model's parameters.\n",
        "\n"
      ]
    },
    {
      "cell_type": "code",
      "execution_count": null,
      "metadata": {
        "id": "vMVoVa-hhVtk"
      },
      "outputs": [],
      "source": [
        "def train(dataloader, model, loss_fn, optimizer):\n",
        "    size = len(dataloader.dataset)\n",
        "    model.train()\n",
        "    for batch, (X, y) in enumerate(dataloader):\n",
        "        X, y = X.to(device), y.to(device)\n",
        "\n",
        "        # Compute prediction error\n",
        "        pred = model(X)\n",
        "        loss = loss_fn(pred, y)\n",
        "\n",
        "        # Backpropagation\n",
        "        loss.backward()\n",
        "        optimizer.step()\n",
        "        optimizer.zero_grad()\n",
        "\n",
        "        if batch % 100 == 0:\n",
        "            loss, current = loss.item(), (batch + 1) * len(X)\n",
        "            print(f\"loss: {loss:>7f}  [{current:>5d}/{size:>5d}]\")"
      ]
    },
    {
      "cell_type": "markdown",
      "metadata": {
        "id": "ewLz-riuhVtk"
      },
      "source": [
        "We also check the model's performance against the test dataset to ensure it is learning.\n",
        "\n"
      ]
    },
    {
      "cell_type": "code",
      "execution_count": null,
      "metadata": {
        "id": "11iws2izhVtk"
      },
      "outputs": [],
      "source": [
        "def test(dataloader, model, loss_fn):\n",
        "    size = len(dataloader.dataset)\n",
        "    num_batches = len(dataloader)\n",
        "    model.eval()\n",
        "    test_loss, correct = 0, 0\n",
        "    with torch.no_grad():\n",
        "        for X, y in dataloader:\n",
        "            X, y = X.to(device), y.to(device)\n",
        "            pred = model(X)\n",
        "            test_loss += loss_fn(pred, y).item()\n",
        "            correct += (pred.argmax(1) == y).type(torch.float).sum().item()\n",
        "    test_loss /= num_batches\n",
        "    correct /= size\n",
        "    print(f\"Test Error: \\n Accuracy: {(100*correct):>0.1f}%, Avg loss: {test_loss:>8f} \\n\")"
      ]
    },
    {
      "cell_type": "markdown",
      "metadata": {
        "id": "4JibHT05hVtl"
      },
      "source": [
        "The training process is conducted over several iterations (*epochs*). During each epoch, the model learns\n",
        "parameters to make better predictions. We print the model's accuracy and loss at each epoch; we'd like to see the\n",
        "accuracy increase and the loss decrease with every epoch.\n",
        "\n"
      ]
    },
    {
      "cell_type": "code",
      "execution_count": null,
      "metadata": {
        "id": "1WtYoqPQhVtl",
        "colab": {
          "base_uri": "https://localhost:8080/"
        },
        "outputId": "fbfca003-ec71-435f-fc6a-5e3e8e282caa"
      },
      "outputs": [
        {
          "output_type": "stream",
          "name": "stdout",
          "text": [
            "Epoch 1\n",
            "-------------------------------\n",
            "loss: 2.297678  [   16/60000]\n",
            "loss: 2.301044  [ 1616/60000]\n",
            "loss: 2.297817  [ 3216/60000]\n",
            "loss: 2.293266  [ 4816/60000]\n",
            "loss: 2.293755  [ 6416/60000]\n",
            "loss: 2.285516  [ 8016/60000]\n",
            "loss: 2.295829  [ 9616/60000]\n",
            "loss: 2.282352  [11216/60000]\n",
            "loss: 2.285692  [12816/60000]\n",
            "loss: 2.266158  [14416/60000]\n",
            "loss: 2.267495  [16016/60000]\n",
            "loss: 2.269327  [17616/60000]\n",
            "loss: 2.259131  [19216/60000]\n",
            "loss: 2.255853  [20816/60000]\n",
            "loss: 2.252909  [22416/60000]\n",
            "loss: 2.260571  [24016/60000]\n",
            "loss: 2.244055  [25616/60000]\n",
            "loss: 2.250559  [27216/60000]\n",
            "loss: 2.231537  [28816/60000]\n",
            "loss: 2.224602  [30416/60000]\n",
            "loss: 2.221646  [32016/60000]\n",
            "loss: 2.200153  [33616/60000]\n",
            "loss: 2.173909  [35216/60000]\n",
            "loss: 2.179584  [36816/60000]\n",
            "loss: 2.233345  [38416/60000]\n",
            "loss: 2.160407  [40016/60000]\n",
            "loss: 2.133257  [41616/60000]\n",
            "loss: 2.160533  [43216/60000]\n",
            "loss: 2.104300  [44816/60000]\n",
            "loss: 2.126691  [46416/60000]\n",
            "loss: 2.131290  [48016/60000]\n",
            "loss: 2.023733  [49616/60000]\n",
            "loss: 2.085166  [51216/60000]\n",
            "loss: 2.031580  [52816/60000]\n",
            "loss: 1.979398  [54416/60000]\n",
            "loss: 1.960404  [56016/60000]\n",
            "loss: 1.930892  [57616/60000]\n",
            "loss: 1.833430  [59216/60000]\n",
            "Test Error: \n",
            " Accuracy: 43.3%, Avg loss: 1.886952 \n",
            "\n",
            "Epoch 2\n",
            "-------------------------------\n",
            "loss: 1.898413  [   16/60000]\n",
            "loss: 1.808793  [ 1616/60000]\n",
            "loss: 1.882630  [ 3216/60000]\n",
            "loss: 1.811032  [ 4816/60000]\n",
            "loss: 1.738613  [ 6416/60000]\n",
            "loss: 1.740124  [ 8016/60000]\n",
            "loss: 1.692759  [ 9616/60000]\n",
            "loss: 1.591932  [11216/60000]\n",
            "loss: 1.598928  [12816/60000]\n",
            "loss: 1.541444  [14416/60000]\n",
            "loss: 1.595543  [16016/60000]\n",
            "loss: 1.488399  [17616/60000]\n",
            "loss: 1.379716  [19216/60000]\n",
            "loss: 1.606034  [20816/60000]\n",
            "loss: 1.512763  [22416/60000]\n",
            "loss: 1.417607  [24016/60000]\n",
            "loss: 1.331240  [25616/60000]\n",
            "loss: 1.506831  [27216/60000]\n",
            "loss: 1.346341  [28816/60000]\n",
            "loss: 1.391799  [30416/60000]\n",
            "loss: 1.285987  [32016/60000]\n",
            "loss: 1.070714  [33616/60000]\n",
            "loss: 1.127007  [35216/60000]\n",
            "loss: 1.277166  [36816/60000]\n",
            "loss: 1.473304  [38416/60000]\n",
            "loss: 1.110616  [40016/60000]\n",
            "loss: 1.105944  [41616/60000]\n",
            "loss: 1.236843  [43216/60000]\n",
            "loss: 0.973206  [44816/60000]\n",
            "loss: 1.148137  [46416/60000]\n",
            "loss: 1.112698  [48016/60000]\n",
            "loss: 1.020692  [49616/60000]\n",
            "loss: 1.022631  [51216/60000]\n",
            "loss: 1.074751  [52816/60000]\n",
            "loss: 1.059954  [54416/60000]\n",
            "loss: 1.297032  [56016/60000]\n",
            "loss: 1.072446  [57616/60000]\n",
            "loss: 0.857237  [59216/60000]\n",
            "Test Error: \n",
            " Accuracy: 61.2%, Avg loss: 1.053033 \n",
            "\n",
            "Epoch 3\n",
            "-------------------------------\n",
            "loss: 1.039288  [   16/60000]\n",
            "loss: 0.908160  [ 1616/60000]\n",
            "loss: 0.954377  [ 3216/60000]\n",
            "loss: 1.037087  [ 4816/60000]\n",
            "loss: 0.914281  [ 6416/60000]\n",
            "loss: 1.076179  [ 8016/60000]\n",
            "loss: 1.089072  [ 9616/60000]\n",
            "loss: 0.870036  [11216/60000]\n",
            "loss: 0.928553  [12816/60000]\n",
            "loss: 1.007014  [14416/60000]\n",
            "loss: 1.021811  [16016/60000]\n",
            "loss: 0.882254  [17616/60000]\n",
            "loss: 0.752556  [19216/60000]\n",
            "loss: 1.521026  [20816/60000]\n",
            "loss: 1.007133  [22416/60000]\n",
            "loss: 0.980063  [24016/60000]\n",
            "loss: 0.724581  [25616/60000]\n",
            "loss: 1.085971  [27216/60000]\n",
            "loss: 1.114186  [28816/60000]\n",
            "loss: 0.878066  [30416/60000]\n",
            "loss: 0.860096  [32016/60000]\n",
            "loss: 0.535247  [33616/60000]\n",
            "loss: 0.685334  [35216/60000]\n",
            "loss: 0.893987  [36816/60000]\n",
            "loss: 1.375101  [38416/60000]\n",
            "loss: 0.752561  [40016/60000]\n",
            "loss: 0.797184  [41616/60000]\n",
            "loss: 0.838740  [43216/60000]\n",
            "loss: 0.585546  [44816/60000]\n",
            "loss: 0.761239  [46416/60000]\n",
            "loss: 0.784967  [48016/60000]\n",
            "loss: 0.683513  [49616/60000]\n",
            "loss: 0.680142  [51216/60000]\n",
            "loss: 0.779266  [52816/60000]\n",
            "loss: 0.795362  [54416/60000]\n",
            "loss: 1.184601  [56016/60000]\n",
            "loss: 0.891123  [57616/60000]\n",
            "loss: 0.619964  [59216/60000]\n",
            "Test Error: \n",
            " Accuracy: 67.8%, Avg loss: 0.832937 \n",
            "\n",
            "Epoch 4\n",
            "-------------------------------\n",
            "loss: 0.857844  [   16/60000]\n",
            "loss: 0.704233  [ 1616/60000]\n",
            "loss: 0.689302  [ 3216/60000]\n",
            "loss: 0.774259  [ 4816/60000]\n",
            "loss: 0.701959  [ 6416/60000]\n",
            "loss: 0.843073  [ 8016/60000]\n",
            "loss: 0.909804  [ 9616/60000]\n",
            "loss: 0.617895  [11216/60000]\n",
            "loss: 0.782405  [12816/60000]\n",
            "loss: 0.703537  [14416/60000]\n",
            "loss: 0.854697  [16016/60000]\n",
            "loss: 0.697477  [17616/60000]\n",
            "loss: 0.585612  [19216/60000]\n",
            "loss: 1.403452  [20816/60000]\n",
            "loss: 0.822441  [22416/60000]\n",
            "loss: 0.854521  [24016/60000]\n",
            "loss: 0.537013  [25616/60000]\n",
            "loss: 1.001193  [27216/60000]\n",
            "loss: 1.027401  [28816/60000]\n",
            "loss: 0.696969  [30416/60000]\n",
            "loss: 0.767136  [32016/60000]\n",
            "loss: 0.390276  [33616/60000]\n",
            "loss: 0.550689  [35216/60000]\n",
            "loss: 0.715364  [36816/60000]\n",
            "loss: 1.281322  [38416/60000]\n",
            "loss: 0.679877  [40016/60000]\n",
            "loss: 0.720616  [41616/60000]\n",
            "loss: 0.692740  [43216/60000]\n",
            "loss: 0.488053  [44816/60000]\n",
            "loss: 0.663893  [46416/60000]\n",
            "loss: 0.644462  [48016/60000]\n",
            "loss: 0.557425  [49616/60000]\n",
            "loss: 0.559276  [51216/60000]\n",
            "loss: 0.668193  [52816/60000]\n",
            "loss: 0.703821  [54416/60000]\n",
            "loss: 1.083397  [56016/60000]\n",
            "loss: 0.861352  [57616/60000]\n",
            "loss: 0.572433  [59216/60000]\n",
            "Test Error: \n",
            " Accuracy: 71.6%, Avg loss: 0.746730 \n",
            "\n",
            "Epoch 5\n",
            "-------------------------------\n",
            "loss: 0.795636  [   16/60000]\n",
            "loss: 0.662380  [ 1616/60000]\n",
            "loss: 0.601890  [ 3216/60000]\n",
            "loss: 0.666813  [ 4816/60000]\n",
            "loss: 0.601970  [ 6416/60000]\n",
            "loss: 0.726608  [ 8016/60000]\n",
            "loss: 0.810267  [ 9616/60000]\n",
            "loss: 0.501182  [11216/60000]\n",
            "loss: 0.688166  [12816/60000]\n",
            "loss: 0.554627  [14416/60000]\n",
            "loss: 0.812435  [16016/60000]\n",
            "loss: 0.609187  [17616/60000]\n",
            "loss: 0.500419  [19216/60000]\n",
            "loss: 1.293881  [20816/60000]\n",
            "loss: 0.727331  [22416/60000]\n",
            "loss: 0.795030  [24016/60000]\n",
            "loss: 0.487303  [25616/60000]\n",
            "loss: 0.953700  [27216/60000]\n",
            "loss: 0.933013  [28816/60000]\n",
            "loss: 0.601435  [30416/60000]\n",
            "loss: 0.747832  [32016/60000]\n",
            "loss: 0.327968  [33616/60000]\n",
            "loss: 0.506191  [35216/60000]\n",
            "loss: 0.622770  [36816/60000]\n",
            "loss: 1.164783  [38416/60000]\n",
            "loss: 0.681459  [40016/60000]\n",
            "loss: 0.677291  [41616/60000]\n",
            "loss: 0.624528  [43216/60000]\n",
            "loss: 0.445389  [44816/60000]\n",
            "loss: 0.633874  [46416/60000]\n",
            "loss: 0.552108  [48016/60000]\n",
            "loss: 0.512798  [49616/60000]\n",
            "loss: 0.482846  [51216/60000]\n",
            "loss: 0.595751  [52816/60000]\n",
            "loss: 0.656151  [54416/60000]\n",
            "loss: 0.984088  [56016/60000]\n",
            "loss: 0.842314  [57616/60000]\n",
            "loss: 0.543665  [59216/60000]\n",
            "Test Error: \n",
            " Accuracy: 74.8%, Avg loss: 0.691877 \n",
            "\n",
            "Done!\n"
          ]
        }
      ],
      "source": [
        "epochs = 5\n",
        "for t in range(epochs):\n",
        "    print(f\"Epoch {t+1}\\n-------------------------------\")\n",
        "    train(train_dataloader, model, loss_fn, optimizer)\n",
        "    test(test_dataloader, model, loss_fn)\n",
        "print(\"Done!\")"
      ]
    },
    {
      "cell_type": "markdown",
      "metadata": {
        "id": "vOK-zUumhVtl"
      },
      "source": [
        "Read more about [Training your model](optimization_tutorial.html).\n",
        "\n",
        "\n"
      ]
    },
    {
      "cell_type": "markdown",
      "metadata": {
        "id": "4_wefPIhhVtl"
      },
      "source": [
        "--------------\n",
        "\n",
        "\n"
      ]
    },
    {
      "cell_type": "markdown",
      "metadata": {
        "id": "seag3079hVtl"
      },
      "source": [
        "## Saving Models\n",
        "A common way to save a model is to serialize the internal state dictionary (containing the model parameters).\n",
        "\n"
      ]
    },
    {
      "cell_type": "code",
      "execution_count": null,
      "metadata": {
        "id": "uBM4PUn2hVtl",
        "colab": {
          "base_uri": "https://localhost:8080/"
        },
        "outputId": "1c699dd2-0428-4977-9ed7-3d8a5b367fe9"
      },
      "outputs": [
        {
          "output_type": "stream",
          "name": "stdout",
          "text": [
            "Saved PyTorch Model State to model.pth\n"
          ]
        }
      ],
      "source": [
        "torch.save(model.state_dict(), \"model.pth\")\n",
        "print(\"Saved PyTorch Model State to model.pth\")"
      ]
    },
    {
      "cell_type": "markdown",
      "metadata": {
        "id": "vCtuYsxZhVtl"
      },
      "source": [
        "## Loading Models\n",
        "\n",
        "The process for loading a model includes re-creating the model structure and loading\n",
        "the state dictionary into it.\n",
        "\n"
      ]
    },
    {
      "cell_type": "code",
      "execution_count": null,
      "metadata": {
        "id": "rbRWP5XLhVtm",
        "colab": {
          "base_uri": "https://localhost:8080/"
        },
        "outputId": "0229a186-696c-4edc-daea-3505b3893e52"
      },
      "outputs": [
        {
          "output_type": "execute_result",
          "data": {
            "text/plain": [
              "<All keys matched successfully>"
            ]
          },
          "metadata": {},
          "execution_count": 35
        }
      ],
      "source": [
        "model = NeuralNetwork().to(device)\n",
        "model.load_state_dict(torch.load(\"model.pth\"))"
      ]
    },
    {
      "cell_type": "markdown",
      "metadata": {
        "id": "Mj8Lx6sGhVtn"
      },
      "source": [
        "This model can now be used to make predictions.\n",
        "\n"
      ]
    },
    {
      "cell_type": "code",
      "execution_count": null,
      "metadata": {
        "id": "6hXfZANLhVtn",
        "colab": {
          "base_uri": "https://localhost:8080/"
        },
        "outputId": "e99b7a4c-3ac2-4269-fa27-0f0314e2a9d2"
      },
      "outputs": [
        {
          "output_type": "stream",
          "name": "stdout",
          "text": [
            "Predicted: \"Ankle boot\", Actual: \"Ankle boot\"\n"
          ]
        }
      ],
      "source": [
        "classes = [\n",
        "    \"T-shirt/top\",\n",
        "    \"Trouser\",\n",
        "    \"Pullover\",\n",
        "    \"Dress\",\n",
        "    \"Coat\",\n",
        "    \"Sandal\",\n",
        "    \"Shirt\",\n",
        "    \"Sneaker\",\n",
        "    \"Bag\",\n",
        "    \"Ankle boot\",\n",
        "]\n",
        "\n",
        "model.eval()\n",
        "x, y = test_data[0][0], test_data[0][1]\n",
        "with torch.no_grad():\n",
        "    x = x.to(device)\n",
        "    pred = model(x)\n",
        "    predicted, actual = classes[pred[0].argmax(0)], classes[y]\n",
        "    print(f'Predicted: \"{predicted}\", Actual: \"{actual}\"')"
      ]
    },
    {
      "cell_type": "markdown",
      "metadata": {
        "id": "7A3OIXxdhVtn"
      },
      "source": [
        "**Source: Pytorch Tutorials**\n",
        "\n",
        "\n"
      ]
    },
    {
      "cell_type": "code",
      "source": [],
      "metadata": {
        "id": "M5AjouCzvEaJ"
      },
      "execution_count": null,
      "outputs": []
    }
  ],
  "metadata": {
    "kernelspec": {
      "display_name": "Python 3",
      "name": "python3"
    },
    "language_info": {
      "codemirror_mode": {
        "name": "ipython",
        "version": 3
      },
      "file_extension": ".py",
      "mimetype": "text/x-python",
      "name": "python",
      "nbconvert_exporter": "python",
      "pygments_lexer": "ipython3",
      "version": "3.10.13"
    },
    "colab": {
      "provenance": [],
      "gpuType": "T4",
      "include_colab_link": true
    },
    "accelerator": "GPU"
  },
  "nbformat": 4,
  "nbformat_minor": 0
}