{
  "nbformat": 4,
  "nbformat_minor": 0,
  "metadata": {
    "kernelspec": {
      "display_name": "Python 2",
      "language": "python",
      "name": "python2"
    },
    "language_info": {
      "codemirror_mode": {
        "name": "ipython",
        "version": 2
      },
      "file_extension": ".py",
      "mimetype": "text/x-python",
      "name": "python",
      "nbconvert_exporter": "python",
      "pygments_lexer": "ipython2",
      "version": "2.7.12"
    },
    "colab": {
      "provenance": [],
      "include_colab_link": true
    }
  },
  "cells": [
    {
      "cell_type": "markdown",
      "metadata": {
        "id": "view-in-github",
        "colab_type": "text"
      },
      "source": [
        "<a href=\"https://colab.research.google.com/github/rosalindmpaulson/DLops/blob/main/1_Revisiting_Python_Basics.ipynb\" target=\"_parent\"><img src=\"https://colab.research.google.com/assets/colab-badge.svg\" alt=\"Open In Colab\"/></a>"
      ]
    },
    {
      "cell_type": "markdown",
      "metadata": {
        "id": "SdG2YDYpWX5j"
      },
      "source": [
        "# Operators"
      ]
    },
    {
      "cell_type": "code",
      "metadata": {
        "id": "J8fxXSSXWX5m",
        "colab": {
          "base_uri": "https://localhost:8080/"
        },
        "outputId": "6284a5d9-0ad5-4f39-f20e-f0ec1e27da71"
      },
      "source": [
        "x = 5\n",
        "print(x)\n",
        "print(type(x))"
      ],
      "execution_count": null,
      "outputs": [
        {
          "output_type": "stream",
          "name": "stdout",
          "text": [
            "5\n",
            "<class 'int'>\n"
          ]
        }
      ]
    },
    {
      "cell_type": "code",
      "metadata": {
        "id": "YvMHP6DJWX59",
        "colab": {
          "base_uri": "https://localhost:8080/"
        },
        "outputId": "1470b910-5b92-452d-854a-823ddfb1fe5a"
      },
      "source": [
        "y = 2.6\n",
        "print(type(y))"
      ],
      "execution_count": null,
      "outputs": [
        {
          "output_type": "stream",
          "name": "stdout",
          "text": [
            "<class 'float'>\n"
          ]
        }
      ]
    },
    {
      "cell_type": "code",
      "metadata": {
        "id": "Pgd3O8NhWX6S",
        "colab": {
          "base_uri": "https://localhost:8080/"
        },
        "outputId": "4408bb4b-5d83-46f2-b089-6fe6fe054474"
      },
      "source": [
        "a = 1.5 + 0.5j\n",
        "print(a.real, a.imag)\n",
        "print(type(a))"
      ],
      "execution_count": null,
      "outputs": [
        {
          "output_type": "stream",
          "name": "stdout",
          "text": [
            "1.5 0.5\n",
            "<class 'complex'>\n"
          ]
        }
      ]
    },
    {
      "cell_type": "code",
      "metadata": {
        "scrolled": true,
        "id": "Z8BCatp5WX6Z",
        "colab": {
          "base_uri": "https://localhost:8080/"
        },
        "outputId": "7bb5e13f-a4a9-40a0-8e9a-200fbbbf8899"
      },
      "source": [
        "print(x+1)\n",
        "y=x+1\n",
        "print(y)"
      ],
      "execution_count": null,
      "outputs": [
        {
          "output_type": "stream",
          "name": "stdout",
          "text": [
            "6\n",
            "6\n"
          ]
        }
      ]
    },
    {
      "cell_type": "code",
      "metadata": {
        "id": "N-VHSHyhWX6h",
        "colab": {
          "base_uri": "https://localhost:8080/"
        },
        "outputId": "3f4af638-9001-4055-dfd7-3253da48bfdb"
      },
      "source": [
        "print(a+1)"
      ],
      "execution_count": null,
      "outputs": [
        {
          "output_type": "stream",
          "name": "stdout",
          "text": [
            "(2.5+0.5j)\n"
          ]
        }
      ]
    },
    {
      "cell_type": "code",
      "metadata": {
        "id": "G0wSgJw8WX6q",
        "colab": {
          "base_uri": "https://localhost:8080/"
        },
        "outputId": "170c6241-2c92-4bda-cef9-8f5a11059c55"
      },
      "source": [
        "print(x*2)"
      ],
      "execution_count": null,
      "outputs": [
        {
          "output_type": "stream",
          "name": "stdout",
          "text": [
            "10\n"
          ]
        }
      ]
    },
    {
      "cell_type": "code",
      "metadata": {
        "id": "iLjwQpAsWX6y",
        "colab": {
          "base_uri": "https://localhost:8080/"
        },
        "outputId": "03b1d6f1-2192-45b4-9658-7b60890524d3"
      },
      "source": [
        "print(a*2)"
      ],
      "execution_count": null,
      "outputs": [
        {
          "output_type": "stream",
          "name": "stdout",
          "text": [
            "(3+1j)\n"
          ]
        }
      ]
    },
    {
      "cell_type": "code",
      "metadata": {
        "id": "QxKL78PGWX67",
        "colab": {
          "base_uri": "https://localhost:8080/"
        },
        "outputId": "48cefd2d-892d-49d1-e98a-f54ff1c9eace"
      },
      "source": [
        "print(x/2)"
      ],
      "execution_count": null,
      "outputs": [
        {
          "output_type": "stream",
          "name": "stdout",
          "text": [
            "2.5\n"
          ]
        }
      ]
    },
    {
      "cell_type": "code",
      "metadata": {
        "id": "w9fPygRsWX7F",
        "colab": {
          "base_uri": "https://localhost:8080/"
        },
        "outputId": "0fa9ab25-6a58-43e9-e241-e94d2cb4b5f7"
      },
      "source": [
        "print(x**2)"
      ],
      "execution_count": null,
      "outputs": [
        {
          "output_type": "stream",
          "name": "stdout",
          "text": [
            "25\n"
          ]
        }
      ]
    },
    {
      "cell_type": "code",
      "metadata": {
        "id": "Y5gch6wCWX7N",
        "colab": {
          "base_uri": "https://localhost:8080/"
        },
        "outputId": "67b8ebe5-d43e-4b99-af4e-5695ef1539e5"
      },
      "source": [
        "x+=1\n",
        "print(x)"
      ],
      "execution_count": null,
      "outputs": [
        {
          "output_type": "stream",
          "name": "stdout",
          "text": [
            "6\n"
          ]
        }
      ]
    },
    {
      "cell_type": "code",
      "metadata": {
        "id": "axFEWLosWX7V",
        "colab": {
          "base_uri": "https://localhost:8080/"
        },
        "outputId": "7e334006-d0b4-464f-d716-b8f4b7c22fc1"
      },
      "source": [
        "x *= 2\n",
        "print(x)"
      ],
      "execution_count": null,
      "outputs": [
        {
          "output_type": "stream",
          "name": "stdout",
          "text": [
            "10\n"
          ]
        }
      ]
    },
    {
      "cell_type": "code",
      "metadata": {
        "id": "FvS3MX2QWX7c",
        "colab": {
          "base_uri": "https://localhost:8080/"
        },
        "outputId": "0ccae383-577c-4368-8f69-6b4944180a22"
      },
      "source": [
        "print(x/5)"
      ],
      "execution_count": null,
      "outputs": [
        {
          "output_type": "stream",
          "name": "stdout",
          "text": [
            "2.4\n"
          ]
        }
      ]
    },
    {
      "cell_type": "code",
      "metadata": {
        "id": "mz2uuoijWX7k",
        "colab": {
          "base_uri": "https://localhost:8080/"
        },
        "outputId": "3690bde3-1e46-4823-803f-bacef736cb66"
      },
      "source": [
        "remainder  = 11 % 3\n",
        "print(remainder)"
      ],
      "execution_count": null,
      "outputs": [
        {
          "output_type": "stream",
          "name": "stdout",
          "text": [
            "2\n"
          ]
        }
      ]
    },
    {
      "cell_type": "code",
      "metadata": {
        "id": "PzO6nDmOWX7s",
        "colab": {
          "base_uri": "https://localhost:8080/"
        },
        "outputId": "069beec7-96df-49b7-82d9-1d660354e3dc"
      },
      "source": [
        "print(y, y+1, y-2, y*2, y**2, y/5)"
      ],
      "execution_count": null,
      "outputs": [
        {
          "output_type": "stream",
          "name": "stdout",
          "text": [
            "6 7 4 12 36 1.2\n"
          ]
        }
      ]
    },
    {
      "cell_type": "code",
      "metadata": {
        "id": "N8sOH0wFWX72",
        "colab": {
          "base_uri": "https://localhost:8080/"
        },
        "outputId": "054aee20-f13d-44a2-e25b-79b3fce6fada"
      },
      "source": [
        "b = complex(2.5,1.5)\n",
        "print(b)"
      ],
      "execution_count": null,
      "outputs": [
        {
          "output_type": "stream",
          "name": "stdout",
          "text": [
            "(2.5+1.5j)\n"
          ]
        }
      ]
    },
    {
      "cell_type": "code",
      "metadata": {
        "id": "5zDzmtWPWX79",
        "colab": {
          "base_uri": "https://localhost:8080/"
        },
        "outputId": "092d2556-bbd7-42cd-f4a5-0ae6463b0411"
      },
      "source": [
        "print(a, b, a+b, a-b, a/b)"
      ],
      "execution_count": null,
      "outputs": [
        {
          "output_type": "stream",
          "name": "stdout",
          "text": [
            "(1.5+0.5j) (2.5+1.5j) (4+2j) (-1-1j) (0.5294117647058824-0.11764705882352938j)\n"
          ]
        }
      ]
    },
    {
      "cell_type": "code",
      "metadata": {
        "id": "-rgG27fkWX8C",
        "colab": {
          "base_uri": "https://localhost:8080/"
        },
        "outputId": "d65b3b73-8968-4177-9cbd-4d2733f6d18c"
      },
      "source": [
        "print(a, a.conjugate(), abs(a), pow(a,2))"
      ],
      "execution_count": null,
      "outputs": [
        {
          "output_type": "stream",
          "name": "stdout",
          "text": [
            "(1.5+0.5j) (1.5-0.5j) 1.5811388300841898 (2+1.5j)\n"
          ]
        }
      ]
    },
    {
      "cell_type": "code",
      "metadata": {
        "id": "UyWBj6IaWX8K",
        "colab": {
          "base_uri": "https://localhost:8080/"
        },
        "outputId": "1e238d94-3da6-4484-8c0c-b725d5e70e87"
      },
      "source": [
        "userInput = input('Enter an integer - ')\n",
        "print(userInput)"
      ],
      "execution_count": null,
      "outputs": [
        {
          "output_type": "stream",
          "name": "stdout",
          "text": [
            "Enter an integer - 23\n",
            "23\n"
          ]
        }
      ]
    },
    {
      "cell_type": "code",
      "metadata": {
        "id": "e6rbg3xvWX8T",
        "colab": {
          "base_uri": "https://localhost:8080/"
        },
        "outputId": "87b8f243-20c0-47f3-a824-b5a5eb52a7e7"
      },
      "source": [
        "print(type(userInput))"
      ],
      "execution_count": null,
      "outputs": [
        {
          "output_type": "stream",
          "name": "stdout",
          "text": [
            "<class 'str'>\n"
          ]
        }
      ]
    },
    {
      "cell_type": "markdown",
      "metadata": {
        "id": "Y4Cebvf6WX8a"
      },
      "source": [
        "# Boolean"
      ]
    },
    {
      "cell_type": "code",
      "metadata": {
        "id": "oLZcS88BWX8b",
        "colab": {
          "base_uri": "https://localhost:8080/"
        },
        "outputId": "497f73d9-cdb1-4831-c7c9-7f864eb51240"
      },
      "source": [
        "t = True\n",
        "f = False\n",
        "print(type(t),type(f))"
      ],
      "execution_count": null,
      "outputs": [
        {
          "output_type": "stream",
          "name": "stdout",
          "text": [
            "<class 'bool'> <class 'bool'>\n"
          ]
        }
      ]
    },
    {
      "cell_type": "code",
      "metadata": {
        "id": "Sv9cgjIEWX8g",
        "colab": {
          "base_uri": "https://localhost:8080/"
        },
        "outputId": "20f038f5-36c1-415e-ddbf-3311ea0a1ae5"
      },
      "source": [
        "print(f and t)"
      ],
      "execution_count": null,
      "outputs": [
        {
          "output_type": "stream",
          "name": "stdout",
          "text": [
            "False\n"
          ]
        }
      ]
    },
    {
      "cell_type": "code",
      "metadata": {
        "id": "NZSoy8RiWX8l",
        "colab": {
          "base_uri": "https://localhost:8080/"
        },
        "outputId": "4b308ba1-cdd1-4be8-d36a-bd0fc2f6ca71"
      },
      "source": [
        "print(t and t)"
      ],
      "execution_count": null,
      "outputs": [
        {
          "output_type": "stream",
          "name": "stdout",
          "text": [
            "True\n"
          ]
        }
      ]
    },
    {
      "cell_type": "code",
      "metadata": {
        "id": "HqxFHR-bWX8p",
        "colab": {
          "base_uri": "https://localhost:8080/"
        },
        "outputId": "2307a6ef-de78-4296-f1af-4301f6f0a480"
      },
      "source": [
        "print(t or f)"
      ],
      "execution_count": null,
      "outputs": [
        {
          "output_type": "stream",
          "name": "stdout",
          "text": [
            "True\n"
          ]
        }
      ]
    },
    {
      "cell_type": "code",
      "metadata": {
        "id": "BjxGWVqlWX8x",
        "colab": {
          "base_uri": "https://localhost:8080/"
        },
        "outputId": "da2c9fb5-e001-478c-f9ce-4eb67409f187"
      },
      "source": [
        "print(f or f)"
      ],
      "execution_count": null,
      "outputs": [
        {
          "output_type": "stream",
          "name": "stdout",
          "text": [
            "False\n"
          ]
        }
      ]
    },
    {
      "cell_type": "code",
      "metadata": {
        "id": "WQdjBYl7WX82",
        "colab": {
          "base_uri": "https://localhost:8080/"
        },
        "outputId": "dc6addde-094a-438f-a4bb-9346bf5f4408"
      },
      "source": [
        "print(not t)"
      ],
      "execution_count": null,
      "outputs": [
        {
          "output_type": "stream",
          "name": "stdout",
          "text": [
            "False\n"
          ]
        }
      ]
    },
    {
      "cell_type": "code",
      "metadata": {
        "id": "B_FCaiJFWX89",
        "colab": {
          "base_uri": "https://localhost:8080/"
        },
        "outputId": "94beae39-3f66-4549-d57c-69dd95fc82f2"
      },
      "source": [
        "print(t != f)"
      ],
      "execution_count": null,
      "outputs": [
        {
          "output_type": "stream",
          "name": "stdout",
          "text": [
            "True\n"
          ]
        }
      ]
    },
    {
      "cell_type": "code",
      "metadata": {
        "id": "QJOkh0U5WX9E",
        "colab": {
          "base_uri": "https://localhost:8080/"
        },
        "outputId": "721dc0ad-a689-4283-fcd8-0695dd06d8e9"
      },
      "source": [
        "print(t != t)"
      ],
      "execution_count": null,
      "outputs": [
        {
          "output_type": "stream",
          "name": "stdout",
          "text": [
            "False\n"
          ]
        }
      ]
    },
    {
      "cell_type": "code",
      "metadata": {
        "scrolled": true,
        "id": "qbwLxV6OWX9K",
        "colab": {
          "base_uri": "https://localhost:8080/"
        },
        "outputId": "2e9240ce-68b4-4980-d730-9ccf62c7fda1"
      },
      "source": [
        "x, y = 4, 8\n",
        "print(x == 4 and y == 8)\n",
        "print(x == 2)\n",
        "print(x < 4)\n",
        "print(y > 4)\n",
        "print(x!=4)"
      ],
      "execution_count": null,
      "outputs": [
        {
          "output_type": "stream",
          "name": "stdout",
          "text": [
            "True\n",
            "False\n",
            "False\n",
            "True\n",
            "False\n"
          ]
        }
      ]
    },
    {
      "cell_type": "markdown",
      "metadata": {
        "id": "sGeOZxDgWX9T"
      },
      "source": [
        "\n",
        "# Strings"
      ]
    },
    {
      "cell_type": "code",
      "metadata": {
        "id": "kXTFyftDWX9V",
        "colab": {
          "base_uri": "https://localhost:8080/"
        },
        "outputId": "93ac221d-a99c-4986-84fa-6b78edfcdedd"
      },
      "source": [
        "hello = 'hello'\n",
        "world = 'world'\n",
        "print(hello, world)\n",
        "print(len(hello), len(world))"
      ],
      "execution_count": null,
      "outputs": [
        {
          "output_type": "stream",
          "name": "stdout",
          "text": [
            "hello world\n",
            "5 5\n"
          ]
        }
      ]
    },
    {
      "cell_type": "code",
      "metadata": {
        "id": "4cvtibzHWX9e",
        "colab": {
          "base_uri": "https://localhost:8080/"
        },
        "outputId": "37c1db49-669b-42c0-8e54-480f77bb6d10"
      },
      "source": [
        "hw = hello + ' ' + world\n",
        "print(hw)"
      ],
      "execution_count": null,
      "outputs": [
        {
          "output_type": "stream",
          "name": "stdout",
          "text": [
            "helloworld\n"
          ]
        }
      ]
    },
    {
      "cell_type": "code",
      "metadata": {
        "id": "pHzwWaBjWX9m",
        "colab": {
          "base_uri": "https://localhost:8080/"
        },
        "outputId": "e4d002c6-4e96-442c-9436-24615d3ed492"
      },
      "source": [
        "hw12 = '%s %s %d' % (hello, world, 12)\n",
        "print(hw12)"
      ],
      "execution_count": null,
      "outputs": [
        {
          "output_type": "stream",
          "name": "stdout",
          "text": [
            "hello world 12\n"
          ]
        }
      ]
    },
    {
      "cell_type": "markdown",
      "metadata": {
        "id": "e70Ra8XJWX_d"
      },
      "source": [
        "# Conditional Statement"
      ]
    },
    {
      "cell_type": "code",
      "metadata": {
        "id": "eJeICEmIWX_f",
        "colab": {
          "base_uri": "https://localhost:8080/"
        },
        "outputId": "fe55cbe0-334d-4d1e-ab7f-0c8c2bed441c"
      },
      "source": [
        "if x is not 3:\n",
        "    print('not 3')"
      ],
      "execution_count": null,
      "outputs": [
        {
          "output_type": "stream",
          "name": "stdout",
          "text": [
            "not 3\n"
          ]
        },
        {
          "output_type": "stream",
          "name": "stderr",
          "text": [
            "<>:1: SyntaxWarning: \"is not\" with a literal. Did you mean \"!=\"?\n",
            "<>:1: SyntaxWarning: \"is not\" with a literal. Did you mean \"!=\"?\n",
            "<ipython-input-26-225cd820edcd>:1: SyntaxWarning: \"is not\" with a literal. Did you mean \"!=\"?\n",
            "  if x is not 3:\n"
          ]
        }
      ]
    },
    {
      "cell_type": "code",
      "metadata": {
        "id": "e8-l6AEPWX_n",
        "colab": {
          "base_uri": "https://localhost:8080/"
        },
        "outputId": "412a7343-ff05-423a-80a4-01fa02f9de1c"
      },
      "source": [
        "if x is 4:\n",
        "    print('Hmm')"
      ],
      "execution_count": null,
      "outputs": [
        {
          "output_type": "stream",
          "name": "stdout",
          "text": [
            "Hmm\n"
          ]
        },
        {
          "output_type": "stream",
          "name": "stderr",
          "text": [
            "<>:1: SyntaxWarning: \"is\" with a literal. Did you mean \"==\"?\n",
            "<>:1: SyntaxWarning: \"is\" with a literal. Did you mean \"==\"?\n",
            "<ipython-input-242-d6d0f7328677>:1: SyntaxWarning: \"is\" with a literal. Did you mean \"==\"?\n",
            "  if x is 4:\n"
          ]
        }
      ]
    },
    {
      "cell_type": "code",
      "metadata": {
        "id": "5M5IjHvPWX_u",
        "colab": {
          "base_uri": "https://localhost:8080/"
        },
        "outputId": "b5ac8d11-ef3a-4c25-daf8-089cf581d3c9"
      },
      "source": [
        "name = 'Ahan'\n",
        "age = 32\n",
        "if name == 'Ahan' and age == 2:\n",
        "    print('%s is %d year\\'s old' % (name, age))\n",
        "else:\n",
        "    print('Else condition!')"
      ],
      "execution_count": null,
      "outputs": [
        {
          "output_type": "stream",
          "name": "stdout",
          "text": [
            "Else condition!\n"
          ]
        }
      ]
    },
    {
      "cell_type": "code",
      "metadata": {
        "id": "LRj2zQNAWX_5",
        "colab": {
          "base_uri": "https://localhost:8080/"
        },
        "outputId": "0f1e3fe0-1338-4626-dcb8-35b542880b7c"
      },
      "source": [
        "if name in ['Ahan', 'Abhra']:\n",
        "    print('%s' % name)"
      ],
      "execution_count": null,
      "outputs": [
        {
          "output_type": "stream",
          "name": "stdout",
          "text": [
            "Ahan\n"
          ]
        }
      ]
    },
    {
      "cell_type": "code",
      "metadata": {
        "id": "cCRYNktyWX_9",
        "colab": {
          "base_uri": "https://localhost:8080/"
        },
        "outputId": "6ef0b2ac-2c61-4676-e72e-f022a0bf87eb"
      },
      "source": [
        "if name == 'Ahan' and age == 2:\n",
        "    print('Good')\n",
        "elif age == 3:\n",
        "    print('Average')\n",
        "else:\n",
        "    print('Bad')"
      ],
      "execution_count": null,
      "outputs": [
        {
          "output_type": "stream",
          "name": "stdout",
          "text": [
            "Bad\n"
          ]
        }
      ]
    },
    {
      "cell_type": "code",
      "metadata": {
        "id": "jjUWfTMoWYAC",
        "colab": {
          "base_uri": "https://localhost:8080/"
        },
        "outputId": "d7e2e542-31c7-453d-a09c-cea579f7dc89"
      },
      "source": [
        "mystring = 'Ahan'\n",
        "myfloat = 10.00\n",
        "myint = 20\n",
        "\n",
        "# testing code\n",
        "if mystring != \"hello\":\n",
        "    print(\"String: %s\" % mystring)\n",
        "if isinstance(myfloat, float) and myfloat == 10.0:\n",
        "    print(\"Float: %f\" % myfloat)\n",
        "if isinstance(myint, int) and myint == 20:\n",
        "    print(\"Integer: %d\" % myint)"
      ],
      "execution_count": null,
      "outputs": [
        {
          "output_type": "stream",
          "name": "stdout",
          "text": [
            "String: Ahan\n",
            "Float: 10.000000\n",
            "Integer: 20\n"
          ]
        }
      ]
    },
    {
      "cell_type": "markdown",
      "metadata": {
        "id": "uN0cp3XnWYAI"
      },
      "source": [
        "# Loop"
      ]
    },
    {
      "cell_type": "code",
      "metadata": {
        "id": "F2AaF1yDWYAK",
        "colab": {
          "base_uri": "https://localhost:8080/"
        },
        "outputId": "5fe7e164-9006-482e-efda-8651fe561d51"
      },
      "source": [
        "primes = [2,3,5,7]\n",
        "for prime in primes:\n",
        "  print(prime)"
      ],
      "execution_count": null,
      "outputs": [
        {
          "output_type": "stream",
          "name": "stdout",
          "text": [
            "2\n",
            "3\n",
            "5\n",
            "7\n"
          ]
        }
      ]
    },
    {
      "cell_type": "code",
      "metadata": {
        "id": "69PjVSDzWYAN",
        "colab": {
          "base_uri": "https://localhost:8080/"
        },
        "outputId": "78bfa5f8-3a0d-4718-caef-96b09dfeeaee"
      },
      "source": [
        "for x in range(5):\n",
        "    print(x)"
      ],
      "execution_count": null,
      "outputs": [
        {
          "output_type": "stream",
          "name": "stdout",
          "text": [
            "0\n",
            "1\n",
            "2\n",
            "3\n",
            "4\n"
          ]
        }
      ]
    },
    {
      "cell_type": "code",
      "metadata": {
        "id": "fOj70YRLWYAR",
        "colab": {
          "base_uri": "https://localhost:8080/"
        },
        "outputId": "c1d9b060-15ae-40a8-eb00-0a369340787d"
      },
      "source": [
        "for x in range(3,4):\n",
        "    print(x)"
      ],
      "execution_count": null,
      "outputs": [
        {
          "output_type": "stream",
          "name": "stdout",
          "text": [
            "3\n"
          ]
        }
      ]
    },
    {
      "cell_type": "code",
      "metadata": {
        "id": "L5hkNFKTWYAY",
        "colab": {
          "base_uri": "https://localhost:8080/"
        },
        "outputId": "6f89e2fb-f345-4501-87c1-e6af5c948ece"
      },
      "source": [
        "for x in range(3,12,2):\n",
        "    print(x)"
      ],
      "execution_count": null,
      "outputs": [
        {
          "output_type": "stream",
          "name": "stdout",
          "text": [
            "3\n",
            "5\n",
            "7\n",
            "9\n",
            "11\n"
          ]
        }
      ]
    },
    {
      "cell_type": "code",
      "metadata": {
        "id": "vm9xhYNnWYAf",
        "colab": {
          "base_uri": "https://localhost:8080/"
        },
        "outputId": "ab7c3fc7-9b8b-4fa7-ac88-4389c6dca83b"
      },
      "source": [
        "for i in range(10,0,-1): #decreasing loop\n",
        "    print(i)"
      ],
      "execution_count": null,
      "outputs": [
        {
          "output_type": "stream",
          "name": "stdout",
          "text": [
            "10\n",
            "9\n",
            "8\n",
            "7\n",
            "6\n",
            "5\n",
            "4\n",
            "3\n",
            "2\n",
            "1\n"
          ]
        }
      ]
    },
    {
      "cell_type": "code",
      "metadata": {
        "id": "ru7DJtHvWYAv",
        "colab": {
          "base_uri": "https://localhost:8080/"
        },
        "outputId": "9e4d4136-9f20-4559-83fa-927bec5980d4"
      },
      "source": [
        "# Prints out 0,1,2,3,4\n",
        "\n",
        "count = 0\n",
        "while True:\n",
        "    print(count)\n",
        "    count += 1\n",
        "    if count >= 5:\n",
        "        break\n",
        "    else:\n",
        "        continue\n",
        "\n"
      ],
      "execution_count": null,
      "outputs": [
        {
          "output_type": "stream",
          "name": "stdout",
          "text": [
            "0\n",
            "1\n",
            "2\n",
            "3\n",
            "4\n"
          ]
        }
      ]
    },
    {
      "cell_type": "code",
      "source": [
        "# Prints out only odd numbers - 1,3,5,7,9\n",
        "for x in range(10):\n",
        "    # Check if x is even\n",
        "    if x % 2 == 0:\n",
        "        continue\n",
        "\n",
        "    print(x)"
      ],
      "metadata": {
        "id": "KS_K8cTVVjMC"
      },
      "execution_count": null,
      "outputs": []
    },
    {
      "cell_type": "markdown",
      "metadata": {
        "id": "6bIOYzxGWYBF"
      },
      "source": [
        "# Containers"
      ]
    },
    {
      "cell_type": "markdown",
      "metadata": {
        "id": "v7oNb51KWYBG"
      },
      "source": [
        "### List [ ]"
      ]
    },
    {
      "cell_type": "code",
      "metadata": {
        "id": "FH5atoOnWYBH",
        "colab": {
          "base_uri": "https://localhost:8080/"
        },
        "outputId": "e94f64df-293f-4aab-8ee4-8cb2a42f9d3c"
      },
      "source": [
        "list1 = [1,2,3,4, 'hello']\n",
        "print(list1)"
      ],
      "execution_count": null,
      "outputs": [
        {
          "output_type": "stream",
          "name": "stdout",
          "text": [
            "[1, 2, 3, 4, 'hello']\n"
          ]
        }
      ]
    },
    {
      "cell_type": "code",
      "metadata": {
        "id": "xd1LM_BPWYBP",
        "colab": {
          "base_uri": "https://localhost:8080/"
        },
        "outputId": "61745a5d-a1d9-4d41-9bf3-f58fa70c4ef3"
      },
      "source": [
        "print(list1[0], list1[1], list1[2], list1[3])"
      ],
      "execution_count": null,
      "outputs": [
        {
          "output_type": "stream",
          "name": "stdout",
          "text": [
            "1 2 3 4\n"
          ]
        }
      ]
    },
    {
      "cell_type": "code",
      "metadata": {
        "id": "EJ76bM8zWYBT",
        "colab": {
          "base_uri": "https://localhost:8080/"
        },
        "outputId": "256b6a89-2731-4af8-940f-729e68c88b78"
      },
      "source": [
        "print(type(list1))"
      ],
      "execution_count": null,
      "outputs": [
        {
          "output_type": "stream",
          "name": "stdout",
          "text": [
            "<class 'list'>\n"
          ]
        }
      ]
    },
    {
      "cell_type": "code",
      "metadata": {
        "id": "dH2naf9XWYBY",
        "colab": {
          "base_uri": "https://localhost:8080/"
        },
        "outputId": "38d2cdaf-f446-451f-d942-af63caa06dce"
      },
      "source": [
        "print(list1[-1])"
      ],
      "execution_count": null,
      "outputs": [
        {
          "output_type": "stream",
          "name": "stdout",
          "text": [
            "hello\n"
          ]
        }
      ]
    },
    {
      "cell_type": "code",
      "metadata": {
        "id": "jX20qAWcWYBc",
        "colab": {
          "base_uri": "https://localhost:8080/"
        },
        "outputId": "33aa5726-fcfb-4fbb-f247-34e1e992100b"
      },
      "source": [
        "print(list1[-4])"
      ],
      "execution_count": null,
      "outputs": [
        {
          "output_type": "stream",
          "name": "stdout",
          "text": [
            "2\n"
          ]
        }
      ]
    },
    {
      "cell_type": "code",
      "metadata": {
        "id": "zIs6--8mWYBg",
        "colab": {
          "base_uri": "https://localhost:8080/"
        },
        "outputId": "2ae19a2e-0937-45a7-ab54-d1702f7ab206"
      },
      "source": [
        "print(list1[-2])"
      ],
      "execution_count": null,
      "outputs": [
        {
          "output_type": "stream",
          "name": "stdout",
          "text": [
            "4\n"
          ]
        }
      ]
    },
    {
      "cell_type": "code",
      "metadata": {
        "id": "lqSzEsqvWYBj",
        "colab": {
          "base_uri": "https://localhost:8080/"
        },
        "outputId": "c09c97b6-b689-4020-fb1d-2ac3dd8ad928"
      },
      "source": [
        "list1[3] = 'bikash'\n",
        "print(list1)"
      ],
      "execution_count": null,
      "outputs": [
        {
          "output_type": "stream",
          "name": "stdout",
          "text": [
            "[1, 2, 3, 'bikash', 'hello']\n"
          ]
        }
      ]
    },
    {
      "cell_type": "code",
      "metadata": {
        "id": "ROZoKDIkWYBm"
      },
      "source": [
        "list1[4] = 'santra'"
      ],
      "execution_count": null,
      "outputs": []
    },
    {
      "cell_type": "code",
      "metadata": {
        "id": "_Ww1Xx1FWYBq",
        "colab": {
          "base_uri": "https://localhost:8080/"
        },
        "outputId": "9cf041d7-89c0-4dcd-c95e-1f3794d40b82"
      },
      "source": [
        "list1.append('santra')\n",
        "print(list1)"
      ],
      "execution_count": null,
      "outputs": [
        {
          "output_type": "stream",
          "name": "stdout",
          "text": [
            "[1, 2, 3, 'bikash', 'santra']\n"
          ]
        }
      ]
    },
    {
      "cell_type": "code",
      "metadata": {
        "id": "MEhXhvZbWYBt",
        "colab": {
          "base_uri": "https://localhost:8080/"
        },
        "outputId": "232e2de3-c0e3-4670-a151-c6d874a37cc0"
      },
      "source": [
        "print(list1[2:4])"
      ],
      "execution_count": null,
      "outputs": [
        {
          "output_type": "stream",
          "name": "stdout",
          "text": [
            "[3, 'bikash']\n"
          ]
        }
      ]
    },
    {
      "cell_type": "code",
      "metadata": {
        "id": "2AiiJosGWYBw",
        "colab": {
          "base_uri": "https://localhost:8080/"
        },
        "outputId": "cbe1ac7f-02c5-44db-875c-a56bd81c512c"
      },
      "source": [
        "last = list1.pop()\n",
        "print(last, list1)"
      ],
      "execution_count": null,
      "outputs": [
        {
          "output_type": "stream",
          "name": "stdout",
          "text": [
            "santra [1, 2, 3, 'bikash']\n"
          ]
        }
      ]
    },
    {
      "cell_type": "code",
      "metadata": {
        "id": "R9sgfqifWYB1",
        "colab": {
          "base_uri": "https://localhost:8080/"
        },
        "outputId": "7b1be0f3-fbca-4319-995e-2adc6e1a9744"
      },
      "source": [
        "nums = list(range(0,10)) # last exclusive\n",
        "print(nums)"
      ],
      "execution_count": null,
      "outputs": [
        {
          "output_type": "stream",
          "name": "stdout",
          "text": [
            "[0, 1, 2, 3, 4, 5, 6, 7, 8, 9]\n"
          ]
        }
      ]
    },
    {
      "cell_type": "code",
      "metadata": {
        "id": "NGl5YEFCWYCV",
        "colab": {
          "base_uri": "https://localhost:8080/"
        },
        "outputId": "350c28b5-4dbb-4759-8882-722e2c2ea0e4"
      },
      "source": [
        "even = [2, 4, 6, 8]\n",
        "odd = [1, 3, 5, 7]\n",
        "allNum = even + odd\n",
        "print(allNum, type(allNum))"
      ],
      "execution_count": null,
      "outputs": [
        {
          "output_type": "stream",
          "name": "stdout",
          "text": [
            "[2, 4, 6, 8, 1, 3, 5, 7] <class 'list'>\n"
          ]
        }
      ]
    },
    {
      "cell_type": "code",
      "metadata": {
        "id": "_GmOD1T9WYCY",
        "colab": {
          "base_uri": "https://localhost:8080/"
        },
        "outputId": "0caba842-61dc-4482-8ff0-5c48541b1267"
      },
      "source": [
        "print(even*3)"
      ],
      "execution_count": null,
      "outputs": [
        {
          "output_type": "stream",
          "name": "stdout",
          "text": [
            "[2, 4, 6, 8, 2, 4, 6, 8, 2, 4, 6, 8]\n"
          ]
        }
      ]
    },
    {
      "cell_type": "code",
      "metadata": {
        "id": "XNuxG4_4WYCd",
        "colab": {
          "base_uri": "https://localhost:8080/"
        },
        "outputId": "4716d72e-f549-4d94-eb2d-f1d4a4f76867"
      },
      "source": [
        "mlist = [1, 2, 3]\n",
        "print('A list is %s %s' % (mlist,mlist))"
      ],
      "execution_count": null,
      "outputs": [
        {
          "output_type": "stream",
          "name": "stdout",
          "text": [
            "A list is [1, 2, 3] [1, 2, 3]\n"
          ]
        }
      ]
    },
    {
      "cell_type": "markdown",
      "metadata": {
        "id": "lgt76CBMWYCh"
      },
      "source": [
        "### Loops in List"
      ]
    },
    {
      "cell_type": "code",
      "metadata": {
        "id": "hptPQo6IWYCi",
        "colab": {
          "base_uri": "https://localhost:8080/"
        },
        "outputId": "33c9e27e-f10e-4064-84f2-58f0e8779b72"
      },
      "source": [
        "for i in range(100):\n",
        "    print(2**i)"
      ],
      "execution_count": null,
      "outputs": [
        {
          "output_type": "stream",
          "name": "stdout",
          "text": [
            "1\n",
            "2\n",
            "4\n",
            "8\n",
            "16\n",
            "32\n",
            "64\n",
            "128\n",
            "256\n",
            "512\n",
            "1024\n",
            "2048\n",
            "4096\n",
            "8192\n",
            "16384\n",
            "32768\n",
            "65536\n",
            "131072\n",
            "262144\n",
            "524288\n",
            "1048576\n",
            "2097152\n",
            "4194304\n",
            "8388608\n",
            "16777216\n",
            "33554432\n",
            "67108864\n",
            "134217728\n",
            "268435456\n",
            "536870912\n",
            "1073741824\n",
            "2147483648\n",
            "4294967296\n",
            "8589934592\n",
            "17179869184\n",
            "34359738368\n",
            "68719476736\n",
            "137438953472\n",
            "274877906944\n",
            "549755813888\n",
            "1099511627776\n",
            "2199023255552\n",
            "4398046511104\n",
            "8796093022208\n",
            "17592186044416\n",
            "35184372088832\n",
            "70368744177664\n",
            "140737488355328\n",
            "281474976710656\n",
            "562949953421312\n",
            "1125899906842624\n",
            "2251799813685248\n",
            "4503599627370496\n",
            "9007199254740992\n",
            "18014398509481984\n",
            "36028797018963968\n",
            "72057594037927936\n",
            "144115188075855872\n",
            "288230376151711744\n",
            "576460752303423488\n",
            "1152921504606846976\n",
            "2305843009213693952\n",
            "4611686018427387904\n",
            "9223372036854775808\n",
            "18446744073709551616\n",
            "36893488147419103232\n",
            "73786976294838206464\n",
            "147573952589676412928\n",
            "295147905179352825856\n",
            "590295810358705651712\n",
            "1180591620717411303424\n",
            "2361183241434822606848\n",
            "4722366482869645213696\n",
            "9444732965739290427392\n",
            "18889465931478580854784\n",
            "37778931862957161709568\n",
            "75557863725914323419136\n",
            "151115727451828646838272\n",
            "302231454903657293676544\n",
            "604462909807314587353088\n",
            "1208925819614629174706176\n",
            "2417851639229258349412352\n",
            "4835703278458516698824704\n",
            "9671406556917033397649408\n",
            "19342813113834066795298816\n",
            "38685626227668133590597632\n",
            "77371252455336267181195264\n",
            "154742504910672534362390528\n",
            "309485009821345068724781056\n",
            "618970019642690137449562112\n",
            "1237940039285380274899124224\n",
            "2475880078570760549798248448\n",
            "4951760157141521099596496896\n",
            "9903520314283042199192993792\n",
            "19807040628566084398385987584\n",
            "39614081257132168796771975168\n",
            "79228162514264337593543950336\n",
            "158456325028528675187087900672\n",
            "316912650057057350374175801344\n",
            "633825300114114700748351602688\n"
          ]
        }
      ]
    },
    {
      "cell_type": "code",
      "metadata": {
        "id": "PLU7d0gIWYCr"
      },
      "source": [
        "animals = ['cat', 'dog', 'monkey']"
      ],
      "execution_count": null,
      "outputs": []
    },
    {
      "cell_type": "code",
      "metadata": {
        "id": "0MfoHzPMWYCy",
        "colab": {
          "base_uri": "https://localhost:8080/"
        },
        "outputId": "8f1327c1-761f-45ce-a9af-a6f690fccb32"
      },
      "source": [
        "for animal in animals:\n",
        "    print(animal)"
      ],
      "execution_count": null,
      "outputs": [
        {
          "output_type": "stream",
          "name": "stdout",
          "text": [
            "cat\n",
            "dog\n",
            "monkey\n"
          ]
        }
      ]
    },
    {
      "cell_type": "code",
      "metadata": {
        "id": "FqIU0ZjwWYC0",
        "colab": {
          "base_uri": "https://localhost:8080/"
        },
        "outputId": "ddb1376b-1426-4781-d5a9-fa30d5a50791"
      },
      "source": [
        "for animal in enumerate(animals):\n",
        "    print(animal)"
      ],
      "execution_count": null,
      "outputs": [
        {
          "output_type": "stream",
          "name": "stdout",
          "text": [
            "(0, 'cat')\n",
            "(1, 'dog')\n",
            "(2, 'monkey')\n"
          ]
        }
      ]
    },
    {
      "cell_type": "code",
      "metadata": {
        "id": "i_rlQO3TWYC3",
        "colab": {
          "base_uri": "https://localhost:8080/"
        },
        "outputId": "78218b5d-0204-4d8f-aa5e-78c460c2f49b"
      },
      "source": [
        "for idx, animal in enumerate(animals):\n",
        "    print('#%d: %s' % (idx+1, animal))"
      ],
      "execution_count": null,
      "outputs": [
        {
          "output_type": "stream",
          "name": "stdout",
          "text": [
            "#1: cat\n",
            "#2: dog\n",
            "#3: monkey\n"
          ]
        }
      ]
    },
    {
      "cell_type": "markdown",
      "metadata": {
        "id": "4MYGQVfmWYC5"
      },
      "source": [
        "### List Comprehensions"
      ]
    },
    {
      "cell_type": "code",
      "metadata": {
        "id": "zO8Mb8uQWYC5",
        "colab": {
          "base_uri": "https://localhost:8080/"
        },
        "outputId": "a31c76c7-e4fd-4024-80d5-b27db8b65a6d"
      },
      "source": [
        "nums = list(range(5))\n",
        "print(nums)"
      ],
      "execution_count": null,
      "outputs": [
        {
          "output_type": "stream",
          "name": "stdout",
          "text": [
            "[0, 1, 2, 3, 4]\n"
          ]
        }
      ]
    },
    {
      "cell_type": "code",
      "metadata": {
        "id": "wIKJIjoAWYC7",
        "colab": {
          "base_uri": "https://localhost:8080/"
        },
        "outputId": "c693edbc-884b-4384-acbc-2f5ec2288ff0"
      },
      "source": [
        "squares = []\n",
        "for x in nums:\n",
        "    squares.append(x**2)\n",
        "print(squares)"
      ],
      "execution_count": null,
      "outputs": [
        {
          "output_type": "stream",
          "name": "stdout",
          "text": [
            "[0, 1, 4, 9, 16]\n"
          ]
        }
      ]
    },
    {
      "cell_type": "code",
      "metadata": {
        "id": "PaUK0lGvWYC-",
        "colab": {
          "base_uri": "https://localhost:8080/"
        },
        "outputId": "d72409a0-0ae3-41c8-b7e2-f681036440cd"
      },
      "source": [
        "print(len(squares))"
      ],
      "execution_count": null,
      "outputs": [
        {
          "output_type": "stream",
          "name": "stdout",
          "text": [
            "5\n"
          ]
        }
      ]
    },
    {
      "cell_type": "code",
      "metadata": {
        "id": "ShK-owhPWYDA",
        "colab": {
          "base_uri": "https://localhost:8080/"
        },
        "outputId": "9b7cddd4-6277-40bd-9f64-8d5b446bf66e"
      },
      "source": [
        "squares = [x**2 for x in nums] # Easy Approach\n",
        "print(squares)"
      ],
      "execution_count": null,
      "outputs": [
        {
          "output_type": "stream",
          "name": "stdout",
          "text": [
            "[0, 1, 4, 9, 16]\n"
          ]
        }
      ]
    },
    {
      "cell_type": "code",
      "metadata": {
        "id": "PXEn6dQzWYDC",
        "colab": {
          "base_uri": "https://localhost:8080/"
        },
        "outputId": "7b2d8d94-54ca-4cf4-ef80-14ce34c16499"
      },
      "source": [
        "even_squares = [x**2 for x in nums if x % 2 == 0]\n",
        "print(even_squares)"
      ],
      "execution_count": null,
      "outputs": [
        {
          "output_type": "stream",
          "name": "stdout",
          "text": [
            "[0, 4, 16]\n"
          ]
        }
      ]
    },
    {
      "cell_type": "code",
      "metadata": {
        "id": "QCove0OWWYDF",
        "colab": {
          "base_uri": "https://localhost:8080/",
          "height": 245
        },
        "outputId": "33ed98f6-921b-4e5b-d5ee-55b57d43698d"
      },
      "source": [
        "numbers = []\n",
        "strings = []\n",
        "names = [\"John\", \"Eric\", \"Jessica\"]\n",
        "proper_nouns = ['Bikash', 'Santra']\n",
        "\n",
        "# write your code here\n",
        "for i in range(2,10):\n",
        "    numbers.append(i)\n",
        "    strings.append(raw_input('Enter a string - '))\n",
        "\n",
        "# this code should write out the filled arrays and the second name in the names list (Eric).\n",
        "print(numbers)\n",
        "print(strings)\n",
        "print(\"The second name on the names list is %s %s\" % (proper_nouns[0], proper_nouns[1]))"
      ],
      "execution_count": null,
      "outputs": [
        {
          "output_type": "error",
          "ename": "NameError",
          "evalue": "name 'raw_input' is not defined",
          "traceback": [
            "\u001b[0;31m---------------------------------------------------------------------------\u001b[0m",
            "\u001b[0;31mNameError\u001b[0m                                 Traceback (most recent call last)",
            "\u001b[0;32m<ipython-input-141-3d6d6fba588e>\u001b[0m in \u001b[0;36m<cell line: 7>\u001b[0;34m()\u001b[0m\n\u001b[1;32m      7\u001b[0m \u001b[0;32mfor\u001b[0m \u001b[0mi\u001b[0m \u001b[0;32min\u001b[0m \u001b[0mrange\u001b[0m\u001b[0;34m(\u001b[0m\u001b[0;36m2\u001b[0m\u001b[0;34m,\u001b[0m\u001b[0;36m10\u001b[0m\u001b[0;34m)\u001b[0m\u001b[0;34m:\u001b[0m\u001b[0;34m\u001b[0m\u001b[0;34m\u001b[0m\u001b[0m\n\u001b[1;32m      8\u001b[0m     \u001b[0mnumbers\u001b[0m\u001b[0;34m.\u001b[0m\u001b[0mappend\u001b[0m\u001b[0;34m(\u001b[0m\u001b[0mi\u001b[0m\u001b[0;34m)\u001b[0m\u001b[0;34m\u001b[0m\u001b[0;34m\u001b[0m\u001b[0m\n\u001b[0;32m----> 9\u001b[0;31m     \u001b[0mstrings\u001b[0m\u001b[0;34m.\u001b[0m\u001b[0mappend\u001b[0m\u001b[0;34m(\u001b[0m\u001b[0mraw_input\u001b[0m\u001b[0;34m(\u001b[0m\u001b[0;34m'Enter a string - '\u001b[0m\u001b[0;34m)\u001b[0m\u001b[0;34m)\u001b[0m\u001b[0;34m\u001b[0m\u001b[0;34m\u001b[0m\u001b[0m\n\u001b[0m\u001b[1;32m     10\u001b[0m \u001b[0;34m\u001b[0m\u001b[0m\n\u001b[1;32m     11\u001b[0m \u001b[0;31m# this code should write out the filled arrays and the second name in the names list (Eric).\u001b[0m\u001b[0;34m\u001b[0m\u001b[0;34m\u001b[0m\u001b[0m\n",
            "\u001b[0;31mNameError\u001b[0m: name 'raw_input' is not defined"
          ]
        }
      ]
    },
    {
      "cell_type": "markdown",
      "metadata": {
        "id": "qhLdpOojWYDJ"
      },
      "source": [
        "### Dictionaries (Key, Value)"
      ]
    },
    {
      "cell_type": "markdown",
      "source": [],
      "metadata": {
        "id": "cKA6r8qK5RrR"
      }
    },
    {
      "cell_type": "code",
      "metadata": {
        "id": "ZvbAJjXdWYDK"
      },
      "source": [
        "d = {'cat': 'cute', 'rat': 'bustard', 'frog': 'messy'}"
      ],
      "execution_count": null,
      "outputs": []
    },
    {
      "cell_type": "code",
      "metadata": {
        "id": "6qMkgyexWYDM",
        "colab": {
          "base_uri": "https://localhost:8080/"
        },
        "outputId": "f85c6de9-fb40-4820-d7d6-cb4803e952fb"
      },
      "source": [
        "print(d['cat'])"
      ],
      "execution_count": null,
      "outputs": [
        {
          "output_type": "stream",
          "name": "stdout",
          "text": [
            "cute\n"
          ]
        }
      ]
    },
    {
      "cell_type": "code",
      "metadata": {
        "id": "zqsxa-tiWYDO",
        "colab": {
          "base_uri": "https://localhost:8080/"
        },
        "outputId": "d74c84f3-bbbf-4709-fc38-0046666120de"
      },
      "source": [
        "print(d)"
      ],
      "execution_count": null,
      "outputs": [
        {
          "output_type": "stream",
          "name": "stdout",
          "text": [
            "{'cat': 'cute', 'rat': 'bustard', 'frog': 'messy'}\n"
          ]
        }
      ]
    },
    {
      "cell_type": "code",
      "metadata": {
        "id": "Ku_vvi7fWYDQ",
        "colab": {
          "base_uri": "https://localhost:8080/"
        },
        "outputId": "b39d25df-40b2-4411-b580-2d6c203cc78c"
      },
      "source": [
        "for ind, key in enumerate(d):\n",
        "    print('#%d: %s' % (ind,key))"
      ],
      "execution_count": null,
      "outputs": [
        {
          "output_type": "stream",
          "name": "stdout",
          "text": [
            "#0: [0.3955027  0.55081318 0.49460255]\n",
            "#1: [0.22613131 0.56639358 0.998479  ]\n"
          ]
        }
      ]
    },
    {
      "cell_type": "code",
      "metadata": {
        "id": "JUE_QWXMWYDT",
        "colab": {
          "base_uri": "https://localhost:8080/",
          "height": 193
        },
        "outputId": "7106e378-653a-49d4-f1ba-988eb10d614f"
      },
      "source": [
        "for key in d:\n",
        "    print(d[key])"
      ],
      "execution_count": null,
      "outputs": [
        {
          "output_type": "error",
          "ename": "IndexError",
          "evalue": "arrays used as indices must be of integer (or boolean) type",
          "traceback": [
            "\u001b[0;31m---------------------------------------------------------------------------\u001b[0m",
            "\u001b[0;31mIndexError\u001b[0m                                Traceback (most recent call last)",
            "\u001b[0;32m<ipython-input-144-1caf9ef0b1b7>\u001b[0m in \u001b[0;36m<cell line: 1>\u001b[0;34m()\u001b[0m\n\u001b[1;32m      1\u001b[0m \u001b[0;32mfor\u001b[0m \u001b[0mkey\u001b[0m \u001b[0;32min\u001b[0m \u001b[0md\u001b[0m\u001b[0;34m:\u001b[0m\u001b[0;34m\u001b[0m\u001b[0;34m\u001b[0m\u001b[0m\n\u001b[0;32m----> 2\u001b[0;31m     \u001b[0mprint\u001b[0m\u001b[0;34m(\u001b[0m\u001b[0md\u001b[0m\u001b[0;34m[\u001b[0m\u001b[0mkey\u001b[0m\u001b[0;34m]\u001b[0m\u001b[0;34m)\u001b[0m\u001b[0;34m\u001b[0m\u001b[0;34m\u001b[0m\u001b[0m\n\u001b[0m",
            "\u001b[0;31mIndexError\u001b[0m: arrays used as indices must be of integer (or boolean) type"
          ]
        }
      ]
    },
    {
      "cell_type": "code",
      "metadata": {
        "id": "_M92EefpWYDW",
        "colab": {
          "base_uri": "https://localhost:8080/"
        },
        "outputId": "4b147d54-6e57-4952-f819-c2241296969c"
      },
      "source": [
        "print('cat' in d)"
      ],
      "execution_count": null,
      "outputs": [
        {
          "output_type": "stream",
          "name": "stdout",
          "text": [
            "True\n"
          ]
        }
      ]
    },
    {
      "cell_type": "code",
      "metadata": {
        "id": "4agpky8ZWYDY"
      },
      "source": [
        "d['fish'] = 'wet'"
      ],
      "execution_count": null,
      "outputs": []
    },
    {
      "cell_type": "code",
      "metadata": {
        "id": "RGX_vxnBWYDa",
        "colab": {
          "base_uri": "https://localhost:8080/"
        },
        "outputId": "232d7b24-711e-43c8-999b-e925ef727a47"
      },
      "source": [
        "print(d['fish'])"
      ],
      "execution_count": null,
      "outputs": [
        {
          "output_type": "stream",
          "name": "stdout",
          "text": [
            "wet\n"
          ]
        }
      ]
    },
    {
      "cell_type": "code",
      "metadata": {
        "id": "KbDYERQVWYDc",
        "colab": {
          "base_uri": "https://localhost:8080/"
        },
        "outputId": "3ed255ec-e912-45d1-e105-2dbb216111cc"
      },
      "source": [
        "print(d.get('monkey'))"
      ],
      "execution_count": null,
      "outputs": [
        {
          "output_type": "stream",
          "name": "stdout",
          "text": [
            "None\n"
          ]
        }
      ]
    },
    {
      "cell_type": "code",
      "metadata": {
        "id": "BtcML4omWYDf",
        "colab": {
          "base_uri": "https://localhost:8080/"
        },
        "outputId": "a511ed79-2ab4-49b3-c707-e2d723a8d676"
      },
      "source": [
        "print(d.get('monkey', 'N/A')) # Default if not found"
      ],
      "execution_count": null,
      "outputs": [
        {
          "output_type": "stream",
          "name": "stdout",
          "text": [
            "N/A\n"
          ]
        }
      ]
    },
    {
      "cell_type": "code",
      "metadata": {
        "id": "OKcVQ1XZWYDj",
        "colab": {
          "base_uri": "https://localhost:8080/"
        },
        "outputId": "7db28d99-7a97-4f01-b95b-94796be14b74"
      },
      "source": [
        "print(d.get('fish'))"
      ],
      "execution_count": null,
      "outputs": [
        {
          "output_type": "stream",
          "name": "stdout",
          "text": [
            "wet\n"
          ]
        }
      ]
    },
    {
      "cell_type": "code",
      "metadata": {
        "id": "RnZ0HrEwWYDl",
        "colab": {
          "base_uri": "https://localhost:8080/"
        },
        "outputId": "15deb936-1791-4950-c13a-a121c192348c"
      },
      "source": [
        "print(d.get('fish', 'N/A')) # Default if not found"
      ],
      "execution_count": null,
      "outputs": [
        {
          "output_type": "stream",
          "name": "stdout",
          "text": [
            "wet\n"
          ]
        }
      ]
    },
    {
      "cell_type": "code",
      "metadata": {
        "id": "XAd8Cv2HWYDo"
      },
      "source": [
        "d['rat'] = 'funny'"
      ],
      "execution_count": null,
      "outputs": []
    },
    {
      "cell_type": "code",
      "metadata": {
        "id": "epJ6MYJdWYDs",
        "colab": {
          "base_uri": "https://localhost:8080/",
          "height": 141
        },
        "outputId": "54abd1de-adf3-42d7-cbe4-702f78962b0c"
      },
      "source": [
        "del d[('fish')]"
      ],
      "execution_count": null,
      "outputs": [
        {
          "output_type": "error",
          "ename": "KeyError",
          "evalue": "'fish'",
          "traceback": [
            "\u001b[0;31m---------------------------------------------------------------------------\u001b[0m",
            "\u001b[0;31mKeyError\u001b[0m                                  Traceback (most recent call last)",
            "\u001b[0;32m<ipython-input-45-14ad3cba0820>\u001b[0m in \u001b[0;36m<cell line: 0>\u001b[0;34m()\u001b[0m\n\u001b[0;32m----> 1\u001b[0;31m \u001b[0;32mdel\u001b[0m \u001b[0md\u001b[0m\u001b[0;34m[\u001b[0m\u001b[0;34m(\u001b[0m\u001b[0;34m'fish'\u001b[0m\u001b[0;34m)\u001b[0m\u001b[0;34m]\u001b[0m\u001b[0;34m\u001b[0m\u001b[0;34m\u001b[0m\u001b[0m\n\u001b[0m",
            "\u001b[0;31mKeyError\u001b[0m: 'fish'"
          ]
        }
      ]
    },
    {
      "cell_type": "code",
      "metadata": {
        "id": "xxgAk3qMWYDx",
        "colab": {
          "base_uri": "https://localhost:8080/"
        },
        "outputId": "910ff833-ae57-4345-9fda-3c5b7673319a"
      },
      "source": [
        "print(d.get('fish','N/A'))"
      ],
      "execution_count": null,
      "outputs": [
        {
          "output_type": "stream",
          "name": "stdout",
          "text": [
            "N/A\n"
          ]
        }
      ]
    },
    {
      "cell_type": "code",
      "metadata": {
        "id": "tw8iHwxoWYD1",
        "colab": {
          "base_uri": "https://localhost:8080/"
        },
        "outputId": "2aecd17a-aec9-45b0-c7b9-6e3eeb7c2e4f"
      },
      "source": [
        "phonebook = {\n",
        "   \"John\" : 938477566,\n",
        "   \"Jack\" : 938377264,\n",
        "   \"Jill\" : 947662781\n",
        "}\n",
        "print(phonebook)"
      ],
      "execution_count": null,
      "outputs": [
        {
          "output_type": "stream",
          "name": "stdout",
          "text": [
            "{'John': 938477566, 'Jack': 938377264, 'Jill': 947662781}\n"
          ]
        }
      ]
    },
    {
      "cell_type": "code",
      "metadata": {
        "id": "9tFFiJC7WYD4",
        "colab": {
          "base_uri": "https://localhost:8080/"
        },
        "outputId": "362c0c6f-b3f5-4e83-9472-31801bafe93d"
      },
      "source": [
        "del phonebook[\"John\"]\n",
        "print(phonebook)"
      ],
      "execution_count": null,
      "outputs": [
        {
          "output_type": "stream",
          "name": "stdout",
          "text": [
            "{'Jack': 938377264, 'Jill': 947662781}\n"
          ]
        }
      ]
    },
    {
      "cell_type": "code",
      "metadata": {
        "id": "YJ16QF6bWYD9",
        "colab": {
          "base_uri": "https://localhost:8080/"
        },
        "outputId": "274a662a-abb9-4f2f-b583-614c3a127d3c"
      },
      "source": [
        "phonebook = {\"John\" : 938477566,\"Jack\" : 938377264,\"Jill\" : 947662781}\n",
        "for name, number in phonebook.items():\n",
        "    print(\"Phone number of %s is %d\" % (name, number))"
      ],
      "execution_count": null,
      "outputs": [
        {
          "output_type": "stream",
          "name": "stdout",
          "text": [
            "Phone number of John is 938477566\n",
            "Phone number of Jack is 938377264\n",
            "Phone number of Jill is 947662781\n"
          ]
        }
      ]
    },
    {
      "cell_type": "code",
      "metadata": {
        "id": "13QjSZL3WYEA",
        "colab": {
          "base_uri": "https://localhost:8080/"
        },
        "outputId": "8390866c-b916-4f93-9d82-2424a658f57a"
      },
      "source": [
        "print(type(phonebook))"
      ],
      "execution_count": null,
      "outputs": [
        {
          "output_type": "stream",
          "name": "stdout",
          "text": [
            "<class 'dict'>\n"
          ]
        }
      ]
    },
    {
      "cell_type": "markdown",
      "metadata": {
        "id": "BJuJJ69lWYEQ"
      },
      "source": [
        "### Sets"
      ]
    },
    {
      "cell_type": "code",
      "metadata": {
        "id": "8cL4GC-bWYER"
      },
      "source": [
        "animals = {'cats', 'dogs'}"
      ],
      "execution_count": null,
      "outputs": []
    },
    {
      "cell_type": "code",
      "metadata": {
        "id": "Y4Fw0D9FWYET",
        "colab": {
          "base_uri": "https://localhost:8080/"
        },
        "outputId": "8c817f13-dc19-4bd8-a788-e95501cc64b0"
      },
      "source": [
        "print(animals)"
      ],
      "execution_count": null,
      "outputs": [
        {
          "output_type": "stream",
          "name": "stdout",
          "text": [
            "{'dogs', 'cats'}\n"
          ]
        }
      ]
    },
    {
      "cell_type": "code",
      "metadata": {
        "id": "f1OYASlmWYEV",
        "colab": {
          "base_uri": "https://localhost:8080/"
        },
        "outputId": "91842ad3-e985-40af-9737-c86f7bc65b3b"
      },
      "source": [
        "animals = set(['cats', 'dogs', 'cats']) # Alternate declairation\n",
        "print(animals)"
      ],
      "execution_count": null,
      "outputs": [
        {
          "output_type": "stream",
          "name": "stdout",
          "text": [
            "{'dogs', 'cats'}\n"
          ]
        }
      ]
    },
    {
      "cell_type": "code",
      "metadata": {
        "id": "bic_FFhVWYEY",
        "colab": {
          "base_uri": "https://localhost:8080/"
        },
        "outputId": "ba99da6e-043e-476c-fb46-9a167093b74a"
      },
      "source": [
        "print('cats' in animals)"
      ],
      "execution_count": null,
      "outputs": [
        {
          "output_type": "stream",
          "name": "stdout",
          "text": [
            "True\n"
          ]
        }
      ]
    },
    {
      "cell_type": "code",
      "metadata": {
        "id": "3T98MqsxWYEa",
        "colab": {
          "base_uri": "https://localhost:8080/"
        },
        "outputId": "6d5c528f-1bad-4fde-dce5-bb0b521a733e"
      },
      "source": [
        "print('rats' in animals)"
      ],
      "execution_count": null,
      "outputs": [
        {
          "output_type": "stream",
          "name": "stdout",
          "text": [
            "False\n"
          ]
        }
      ]
    },
    {
      "cell_type": "code",
      "metadata": {
        "id": "PVbbuX6nWYEf"
      },
      "source": [
        "animals.add('rats')"
      ],
      "execution_count": null,
      "outputs": []
    },
    {
      "cell_type": "code",
      "metadata": {
        "id": "3Z8tFmzRWYEh",
        "colab": {
          "base_uri": "https://localhost:8080/"
        },
        "outputId": "74a8e882-1134-4a6b-e26e-c89483b0f72a"
      },
      "source": [
        "print('rats' in animals)"
      ],
      "execution_count": null,
      "outputs": [
        {
          "output_type": "stream",
          "name": "stdout",
          "text": [
            "True\n"
          ]
        }
      ]
    },
    {
      "cell_type": "code",
      "metadata": {
        "id": "KM9JP7JhWYEj",
        "colab": {
          "base_uri": "https://localhost:8080/"
        },
        "outputId": "fac0b610-9033-4358-ced9-7e7625946545"
      },
      "source": [
        "print(len(animals))"
      ],
      "execution_count": null,
      "outputs": [
        {
          "output_type": "stream",
          "name": "stdout",
          "text": [
            "3\n"
          ]
        }
      ]
    },
    {
      "cell_type": "code",
      "metadata": {
        "id": "qCfIH1h5WYEl"
      },
      "source": [
        "animals.remove('rats')"
      ],
      "execution_count": null,
      "outputs": []
    },
    {
      "cell_type": "code",
      "metadata": {
        "id": "FUfRJ5ElWYEp",
        "colab": {
          "base_uri": "https://localhost:8080/"
        },
        "outputId": "bc560b5d-6912-4c52-91e0-41b810f88456"
      },
      "source": [
        "print(len(animals))"
      ],
      "execution_count": null,
      "outputs": [
        {
          "output_type": "stream",
          "name": "stdout",
          "text": [
            "2\n"
          ]
        }
      ]
    },
    {
      "cell_type": "code",
      "metadata": {
        "id": "7RJvJKA6WYEs"
      },
      "source": [
        "animals = {'cat','dog','rat'}"
      ],
      "execution_count": null,
      "outputs": []
    },
    {
      "cell_type": "code",
      "metadata": {
        "id": "ZeLY9-FoWYEv",
        "colab": {
          "base_uri": "https://localhost:8080/"
        },
        "outputId": "03d90e53-9fdb-4856-aff0-52609fe9c48f"
      },
      "source": [
        "for idx, animal in enumerate(animals):\n",
        "    print('#%d: %s' % (idx+1, animal))"
      ],
      "execution_count": null,
      "outputs": [
        {
          "output_type": "stream",
          "name": "stdout",
          "text": [
            "#1: cat\n",
            "#2: dog\n",
            "#3: rat\n"
          ]
        }
      ]
    },
    {
      "cell_type": "code",
      "metadata": {
        "id": "-xl-Mnc1WYE5",
        "colab": {
          "base_uri": "https://localhost:8080/"
        },
        "outputId": "224cea41-280c-4160-87ab-cf98cf88a317"
      },
      "source": [
        "import math\n",
        "nums = {int(math.sqrt(x)) for x in range(30)}\n",
        "print(nums)"
      ],
      "execution_count": null,
      "outputs": [
        {
          "output_type": "stream",
          "name": "stdout",
          "text": [
            "{0, 1, 2, 3, 4, 5}\n"
          ]
        }
      ]
    },
    {
      "cell_type": "markdown",
      "metadata": {
        "id": "eo9Wx_EFWYE8"
      },
      "source": [
        "### Tuples"
      ]
    },
    {
      "cell_type": "code",
      "metadata": {
        "id": "GsKZyzluWYE8",
        "colab": {
          "base_uri": "https://localhost:8080/"
        },
        "outputId": "afbf2c87-2811-4347-a4b5-e2dfe820da83"
      },
      "source": [
        "d = {(x, x+1): x for x in range(10)}\n",
        "t = (2,3)\n",
        "print (type(d))\n",
        "print(type(t))\n",
        "print(d)\n",
        "print(list(t))"
      ],
      "execution_count": null,
      "outputs": [
        {
          "output_type": "stream",
          "name": "stdout",
          "text": [
            "<class 'dict'>\n",
            "<class 'tuple'>\n",
            "{(0, 1): 0, (1, 2): 1, (2, 3): 2, (3, 4): 3, (4, 5): 4, (5, 6): 5, (6, 7): 6, (7, 8): 7, (8, 9): 8, (9, 10): 9}\n",
            "[2, 3]\n"
          ]
        }
      ]
    },
    {
      "cell_type": "code",
      "metadata": {
        "id": "xpS3ADCZWYFB",
        "colab": {
          "base_uri": "https://localhost:8080/"
        },
        "outputId": "7019d4c5-de46-4ba4-e90d-9155d1bea69a"
      },
      "source": [
        "d[t] = 1000\n",
        "print(d)"
      ],
      "execution_count": null,
      "outputs": [
        {
          "output_type": "stream",
          "name": "stdout",
          "text": [
            "{(0, 1): 0, (1, 2): 1, (2, 3): 1000, (3, 4): 3, (4, 5): 4, (5, 6): 5, (6, 7): 6, (7, 8): 7, (8, 9): 8, (9, 10): 9}\n"
          ]
        }
      ]
    },
    {
      "cell_type": "code",
      "metadata": {
        "id": "kPdEe4cKWYFD",
        "colab": {
          "base_uri": "https://localhost:8080/"
        },
        "outputId": "d252c114-5ef9-483d-971e-0654850145b7"
      },
      "source": [
        "for ind1,data in enumerate(d):\n",
        "    print('#%d: %s' % (ind1,data))"
      ],
      "execution_count": null,
      "outputs": [
        {
          "output_type": "stream",
          "name": "stdout",
          "text": [
            "#0: (0, 1)\n",
            "#1: (1, 2)\n",
            "#2: (2, 3)\n",
            "#3: (3, 4)\n",
            "#4: (4, 5)\n",
            "#5: (5, 6)\n",
            "#6: (6, 7)\n",
            "#7: (7, 8)\n",
            "#8: (8, 9)\n",
            "#9: (9, 10)\n"
          ]
        }
      ]
    },
    {
      "cell_type": "markdown",
      "metadata": {
        "id": "PuuwWjmYWYFI"
      },
      "source": [
        "# Functions"
      ]
    },
    {
      "cell_type": "code",
      "metadata": {
        "id": "a0KtwBmVWYFJ",
        "colab": {
          "base_uri": "https://localhost:8080/"
        },
        "outputId": "9def275f-bd65-4533-d320-08528e9f77d3"
      },
      "source": [
        "def sign(x):\n",
        "    if x > 0:\n",
        "        return 'positive'\n",
        "    elif x < 0:\n",
        "        return 'negative'\n",
        "    else:\n",
        "        return 'zero'\n",
        "\n",
        "for y in [-1, 0, 1]:\n",
        "    print(sign(y))"
      ],
      "execution_count": null,
      "outputs": [
        {
          "output_type": "stream",
          "name": "stdout",
          "text": [
            "negative\n",
            "zero\n",
            "positive\n"
          ]
        }
      ]
    },
    {
      "cell_type": "markdown",
      "metadata": {
        "id": "-vr5jxQRWYFZ"
      },
      "source": [
        "# Classes"
      ]
    },
    {
      "cell_type": "code",
      "metadata": {
        "id": "BH3CGd4cWYFa",
        "colab": {
          "base_uri": "https://localhost:8080/"
        },
        "outputId": "bf7bf0c9-fca4-480a-ff1c-4b761585ae70"
      },
      "source": [
        "class Greeter(object):\n",
        "\n",
        "    # Constructor\n",
        "    def __init__(self, name):\n",
        "        self.name = name  # Create an instance variable\n",
        "\n",
        "    # Instance method\n",
        "    def greet(self, loud=False):\n",
        "        if loud:\n",
        "            print('HELLO, %s!' % self.name.upper())\n",
        "        else:\n",
        "            print('Hello, %s' % self.name)\n",
        "\n",
        "g = Greeter('Fred')  # Construct an instance of the Greeter class\n",
        "g.greet()            # Call an instance method; prints \"Hello, Fred\"\n",
        "g.greet(loud=True)   # Call an instance method; prints \"HELLO, FRED!\""
      ],
      "execution_count": null,
      "outputs": [
        {
          "output_type": "stream",
          "name": "stdout",
          "text": [
            "Hello, Fred\n",
            "HELLO, FRED!\n"
          ]
        }
      ]
    },
    {
      "cell_type": "code",
      "metadata": {
        "id": "q4cBnF9nWYFe",
        "colab": {
          "base_uri": "https://localhost:8080/"
        },
        "outputId": "61c013f7-35f9-47c0-b2bb-688c77a56f99"
      },
      "source": [
        "class school(object):\n",
        "    def __init__(self,name):\n",
        "        self.name = name\n",
        "\n",
        "    def candidate(self, x):\n",
        "        if x==5000:\n",
        "            print('%s is paid %d rupees' % (self.name,x))\n",
        "        else:\n",
        "            print('%s is paid %d rupees' % (self.name,x))\n",
        "stu = school('Bikash')\n",
        "stu.candidate(5000)"
      ],
      "execution_count": null,
      "outputs": [
        {
          "output_type": "stream",
          "name": "stdout",
          "text": [
            "Bikash is paid 5000 rupees\n"
          ]
        }
      ]
    },
    {
      "cell_type": "code",
      "metadata": {
        "id": "azxmUoriWYFj",
        "colab": {
          "base_uri": "https://localhost:8080/"
        },
        "outputId": "acfe0fa8-b76f-48fd-dc88-c65201bbc9d8"
      },
      "source": [
        "class school():\n",
        "    def candidate(self):\n",
        "        print('is paid rupees')\n",
        "\n",
        "stu = school()\n",
        "stu.candidate()"
      ],
      "execution_count": null,
      "outputs": [
        {
          "output_type": "stream",
          "name": "stdout",
          "text": [
            "is paid rupees\n"
          ]
        }
      ]
    },
    {
      "cell_type": "code",
      "metadata": {
        "id": "mwDeHhmxWYFm",
        "colab": {
          "base_uri": "https://localhost:8080/"
        },
        "outputId": "305ebe03-3c23-4a41-853d-4d25467df4bb"
      },
      "source": [
        "# define the Vehicle class\n",
        "class Vehicle:\n",
        "    name = \"\"\n",
        "    kind = \"car\"\n",
        "    color = \"\"\n",
        "    value = 100.00\n",
        "    def description(self):\n",
        "        desc_str = \"%s is a %s %s worth $%.2f.\" % (self.name, self.color, self.kind, self.value)\n",
        "        return desc_str\n",
        "# your code goes here\n",
        "car1 = Vehicle()\n",
        "car2 = Vehicle()\n",
        "car1.name = 'Benz'\n",
        "car1.color = 'Red'\n",
        "car2.name = 'BMW'\n",
        "car2.color = 'Silver'\n",
        "\n",
        "# test code\n",
        "print(car1.description())\n",
        "print(car2.description())"
      ],
      "execution_count": null,
      "outputs": [
        {
          "output_type": "stream",
          "name": "stdout",
          "text": [
            "Benz is a Red car worth $100.00.\n",
            "BMW is a Silver car worth $100.00.\n"
          ]
        }
      ]
    },
    {
      "cell_type": "markdown",
      "source": [
        "# Numpy"
      ],
      "metadata": {
        "id": "NPo5MLV0-1mI"
      }
    },
    {
      "cell_type": "code",
      "source": [
        "import numpy as np"
      ],
      "metadata": {
        "id": "uAAsI0sD-4XC"
      },
      "execution_count": null,
      "outputs": []
    },
    {
      "cell_type": "code",
      "source": [
        "A1 = np.array([[1,2,3,4,8], [1,2,3,4,8]])\n",
        "print(A1)\n",
        "A = np.array([1,2,3,4,8])\n",
        "B = np.array([[1,2,3,10,20]])\n",
        "print(A1.shape, A.shape, B.shape)\n",
        "print(type(A1), type(B))"
      ],
      "metadata": {
        "colab": {
          "base_uri": "https://localhost:8080/"
        },
        "id": "E0JUB7ZC-8Wm",
        "outputId": "ab52e632-869c-4f85-f22a-c7874989f308"
      },
      "execution_count": null,
      "outputs": [
        {
          "output_type": "stream",
          "name": "stdout",
          "text": [
            "[[1 2 3 4 8]\n",
            " [1 2 3 4 8]]\n",
            "(2, 5) (5,) (1, 5)\n",
            "<class 'numpy.ndarray'> <class 'numpy.ndarray'>\n"
          ]
        }
      ]
    },
    {
      "cell_type": "code",
      "source": [],
      "metadata": {
        "id": "-xVRmbWuzNuE"
      },
      "execution_count": null,
      "outputs": []
    },
    {
      "cell_type": "code",
      "source": [
        "c = np.zeros((2,2,2)) #tuple is the input\n",
        "print(c)\n",
        "print(type(c))"
      ],
      "metadata": {
        "colab": {
          "base_uri": "https://localhost:8080/"
        },
        "id": "725e1XrY_Fif",
        "outputId": "7abe148a-3440-4be2-f479-626a7f3b80cf"
      },
      "execution_count": null,
      "outputs": [
        {
          "output_type": "stream",
          "name": "stdout",
          "text": [
            "[[[0. 0.]\n",
            "  [0. 0.]]\n",
            "\n",
            " [[0. 0.]\n",
            "  [0. 0.]]]\n",
            "<class 'numpy.ndarray'>\n"
          ]
        }
      ]
    },
    {
      "cell_type": "code",
      "source": [
        "c = np.ones((3,3))\n",
        "print(c)\n",
        "c = np.full((3,3),10)\n",
        "print(c)\n",
        "c = np.eye((4))\n",
        "print(c)\n",
        "d = np.random.random((2,3))\n",
        "print(d)\n",
        "r = np.random.normal()\n",
        "print(r)\n",
        "r1 = np.random.randint(1,10,100)\n",
        "print(r1)\n",
        "r2 = np.random.randint(1,10,(4,5))\n",
        "print(r2)"
      ],
      "metadata": {
        "colab": {
          "base_uri": "https://localhost:8080/"
        },
        "id": "8QlOq0Cq_J6G",
        "outputId": "f52b7a1d-e72b-47df-e409-9c9dd311eb1f"
      },
      "execution_count": null,
      "outputs": [
        {
          "output_type": "stream",
          "name": "stdout",
          "text": [
            "[[1. 1. 1.]\n",
            " [1. 1. 1.]\n",
            " [1. 1. 1.]]\n",
            "[[10 10 10]\n",
            " [10 10 10]\n",
            " [10 10 10]]\n",
            "[[1. 0. 0. 0.]\n",
            " [0. 1. 0. 0.]\n",
            " [0. 0. 1. 0.]\n",
            " [0. 0. 0. 1.]]\n",
            "[[0.92900627 0.92630121 0.90832905]\n",
            " [0.21271674 0.87071392 0.6665876 ]]\n",
            "-1.214070297124944\n",
            "[2 5 4 2 7 2 7 1 4 1 9 6 3 8 1 6 2 9 1 8 7 3 9 3 8 9 3 2 8 3 5 9 1 5 4 4 9\n",
            " 8 5 1 2 3 6 4 4 4 4 5 9 8 2 6 8 6 1 4 5 9 8 2 8 7 5 9 5 1 5 6 1 8 1 6 2 7\n",
            " 7 7 5 6 2 7 6 8 8 6 9 7 7 3 8 3 4 4 2 9 1 1 6 8 2 7]\n",
            "[[8 4 3 6 1]\n",
            " [3 6 8 5 1]\n",
            " [6 4 7 2 8]\n",
            " [3 5 1 7 8]]\n"
          ]
        }
      ]
    },
    {
      "cell_type": "code",
      "source": [
        "y = np.empty_like(r2)\n",
        "print(y)\n",
        "y = np.zeros_like(r2)\n",
        "print(y)\n",
        "y = np.ones_like(r2)\n",
        "print(y)"
      ],
      "metadata": {
        "colab": {
          "base_uri": "https://localhost:8080/"
        },
        "id": "5sz4Mn3Q_Kse",
        "outputId": "51c77092-eba4-4a1d-ea7c-7fdcf833cdc6"
      },
      "execution_count": null,
      "outputs": [
        {
          "output_type": "stream",
          "name": "stdout",
          "text": [
            "[[4 4 8 1 4]\n",
            " [8 7 2 5 6]\n",
            " [5 6 2 2 1]\n",
            " [8 1 3 3 3]]\n",
            "[[0 0 0 0 0]\n",
            " [0 0 0 0 0]\n",
            " [0 0 0 0 0]\n",
            " [0 0 0 0 0]]\n",
            "[[1 1 1 1 1]\n",
            " [1 1 1 1 1]\n",
            " [1 1 1 1 1]\n",
            " [1 1 1 1 1]]\n"
          ]
        }
      ]
    },
    {
      "cell_type": "code",
      "source": [
        "print(r2.T) # Transpose"
      ],
      "metadata": {
        "colab": {
          "base_uri": "https://localhost:8080/",
          "height": 141
        },
        "id": "IGqRWKoG_k1-",
        "outputId": "c5a682af-c45a-4cbc-cff9-cbc8a5244792"
      },
      "execution_count": null,
      "outputs": [
        {
          "output_type": "error",
          "ename": "NameError",
          "evalue": "name 'r2' is not defined",
          "traceback": [
            "\u001b[0;31m---------------------------------------------------------------------------\u001b[0m",
            "\u001b[0;31mNameError\u001b[0m                                 Traceback (most recent call last)",
            "\u001b[0;32m<ipython-input-16-c2dbf8a95e89>\u001b[0m in \u001b[0;36m<cell line: 0>\u001b[0;34m()\u001b[0m\n\u001b[0;32m----> 1\u001b[0;31m \u001b[0mprint\u001b[0m\u001b[0;34m(\u001b[0m\u001b[0mr2\u001b[0m\u001b[0;34m.\u001b[0m\u001b[0mT\u001b[0m\u001b[0;34m)\u001b[0m \u001b[0;31m# Transpose\u001b[0m\u001b[0;34m\u001b[0m\u001b[0;34m\u001b[0m\u001b[0m\n\u001b[0m",
            "\u001b[0;31mNameError\u001b[0m: name 'r2' is not defined"
          ]
        }
      ]
    },
    {
      "cell_type": "code",
      "source": [
        "x = np.array([[1,2],[3,4]])\n",
        "print(np.sum(x))  # Compute sum of all elements; prints \"10\"\n",
        "print(np.sum(x, axis=0))  # Compute sum of each column; prints \"[4 6]\"\n",
        "print(np.sum(x, axis=1))  # Compute sum of each row; prints \"[3 7]\""
      ],
      "metadata": {
        "colab": {
          "base_uri": "https://localhost:8080/"
        },
        "id": "xiOOH6tX_qHd",
        "outputId": "a92c6d7b-e8c8-4157-a1a2-1220e3b8c8f4"
      },
      "execution_count": null,
      "outputs": [
        {
          "output_type": "stream",
          "name": "stdout",
          "text": [
            "10\n",
            "[4 6]\n",
            "[3 7]\n"
          ]
        }
      ]
    },
    {
      "cell_type": "code",
      "source": [
        "print(np.sqrt(x))\n",
        "x = np.array([[1,2],[3,4]])\n",
        "y = np.array([[5,6],[7,8]])\n",
        "print(x+y)\n",
        "print(np.add(x,y))\n"
      ],
      "metadata": {
        "colab": {
          "base_uri": "https://localhost:8080/"
        },
        "id": "C36tbcDS_q9O",
        "outputId": "2667378b-8ec4-4208-92c3-e9537f4ef163"
      },
      "execution_count": null,
      "outputs": [
        {
          "output_type": "stream",
          "name": "stdout",
          "text": [
            "[[1.         1.41421356]\n",
            " [1.73205081 2.        ]]\n",
            "[[ 6  8]\n",
            " [10 12]]\n",
            "[[ 6  8]\n",
            " [10 12]]\n"
          ]
        }
      ]
    },
    {
      "cell_type": "code",
      "source": [
        "x = np.array([[1,2],[3,4]])\n",
        "y = np.array([[5,6],[7,8]])\n",
        "\n",
        "v = np.array([9,10])\n",
        "w = np.array([11, 12])\n",
        "print(x)\n",
        "print(y)\n",
        "print(v)\n",
        "print(w)"
      ],
      "metadata": {
        "colab": {
          "base_uri": "https://localhost:8080/"
        },
        "id": "xtGlibJP_4_f",
        "outputId": "7a1f0cbb-264c-4f0d-92c2-51c9d2622aee"
      },
      "execution_count": null,
      "outputs": [
        {
          "output_type": "stream",
          "name": "stdout",
          "text": [
            "[[1 2]\n",
            " [3 4]]\n",
            "[[5 6]\n",
            " [7 8]]\n",
            "[ 9 10]\n",
            "[11 12]\n"
          ]
        }
      ]
    },
    {
      "cell_type": "code",
      "source": [
        "print(v.dot(w))\n",
        "print('---------------')\n",
        "print(np.dot(v, w))\n",
        "print(x.dot(v))\n",
        "print('---------------')\n",
        "print(np.dot(x, v))\n",
        "print(np.dot(v, x))"
      ],
      "metadata": {
        "colab": {
          "base_uri": "https://localhost:8080/"
        },
        "id": "i5vAVoKJ_7CW",
        "outputId": "7122c8b8-02ca-4df8-ff3a-2e92f3006e27"
      },
      "execution_count": null,
      "outputs": [
        {
          "output_type": "stream",
          "name": "stdout",
          "text": [
            "219\n",
            "---------------\n",
            "219\n",
            "[29 67]\n",
            "---------------\n",
            "[29 67]\n",
            "[39 58]\n"
          ]
        }
      ]
    },
    {
      "cell_type": "code",
      "source": [
        "a2d = np.array([[1,2,3],[4,5,6]])\n",
        "b2d = np.array([[10,4,6],[2,4,6]])\n",
        "print(a2d.shape)\n",
        "\n",
        "r, c = b2d.shape\n",
        "print(r,c)\n",
        "\n",
        "c2d = a2d.T # Transpose\n",
        "print(c2d)\n",
        "print(a2d)\n",
        "\n",
        "# Element wise multiplication\n",
        "d2d = a2d * b2d\n",
        "print(d2d)\n",
        "\n",
        "d2d = np.multiply(a2d, b2d)\n",
        "print(d2d)"
      ],
      "metadata": {
        "colab": {
          "base_uri": "https://localhost:8080/"
        },
        "id": "YilCXxAxAF9e",
        "outputId": "3c4f6767-a10c-4131-9321-35b71762d2a7"
      },
      "execution_count": null,
      "outputs": [
        {
          "output_type": "stream",
          "name": "stdout",
          "text": [
            "(2, 3)\n",
            "2 3\n",
            "[[1 4]\n",
            " [2 5]\n",
            " [3 6]]\n",
            "[[1 2 3]\n",
            " [4 5 6]]\n",
            "[[10  8 18]\n",
            " [ 8 20 36]]\n",
            "[[10  8 18]\n",
            " [ 8 20 36]]\n"
          ]
        }
      ]
    },
    {
      "cell_type": "code",
      "source": [
        "# Matrix multiplication\n",
        "e2d = np.dot(a2d,c2d)\n",
        "print(e2d)\n",
        "\n",
        "e2d = np.matmul(a2d,c2d)\n",
        "print(e2d)"
      ],
      "metadata": {
        "colab": {
          "base_uri": "https://localhost:8080/"
        },
        "id": "QJ_mW9ziAHB9",
        "outputId": "1ce2ac9d-c659-4593-9d76-695cb1c3f9be"
      },
      "execution_count": null,
      "outputs": [
        {
          "output_type": "stream",
          "name": "stdout",
          "text": [
            "[[14 32]\n",
            " [32 77]]\n",
            "[[14 32]\n",
            " [32 77]]\n"
          ]
        }
      ]
    },
    {
      "cell_type": "code",
      "source": [
        "print(np.sum(A))\n",
        "print(np.mean(A))\n",
        "print(np.median(A))\n",
        "print(np.var(A))\n",
        "print(np.std(A))"
      ],
      "metadata": {
        "colab": {
          "base_uri": "https://localhost:8080/"
        },
        "id": "l3bcb81uAQGm",
        "outputId": "d3e6654d-62df-4de7-e3b5-991dab64f3e8"
      },
      "execution_count": null,
      "outputs": [
        {
          "output_type": "stream",
          "name": "stdout",
          "text": [
            "18\n",
            "3.6\n",
            "3.0\n",
            "5.840000000000001\n",
            "2.4166091947189146\n"
          ]
        }
      ]
    },
    {
      "cell_type": "code",
      "source": [
        "a = np.array([[1,2,3,4], [5,6,7,8], [9,10,11,12]])\n",
        "print(a)\n",
        "c = np.copy(a)\n",
        "print(c)\n",
        "b = a[:2,1:3] #Last exclusive\n",
        "print(b)"
      ],
      "metadata": {
        "colab": {
          "base_uri": "https://localhost:8080/"
        },
        "id": "CoWIivIcATrn",
        "outputId": "74753a8b-5438-4810-88c5-255ef8bcb286"
      },
      "execution_count": null,
      "outputs": [
        {
          "output_type": "stream",
          "name": "stdout",
          "text": [
            "[[ 1  2  3  4]\n",
            " [ 5  6  7  8]\n",
            " [ 9 10 11 12]]\n",
            "[[ 1  2  3  4]\n",
            " [ 5  6  7  8]\n",
            " [ 9 10 11 12]]\n",
            "[[2 3]\n",
            " [6 7]]\n"
          ]
        }
      ]
    },
    {
      "cell_type": "code",
      "source": [
        "v = np.array([1,2,3])  # v has shape (3,)\n",
        "w = np.array([4,5])    # w has shape (2,)\n",
        "print(np.reshape(v, (3, 1)) * w)"
      ],
      "metadata": {
        "colab": {
          "base_uri": "https://localhost:8080/"
        },
        "id": "U1WpPQyaAq_-",
        "outputId": "05916840-78f1-4912-b51e-14288cc05bdc"
      },
      "execution_count": null,
      "outputs": [
        {
          "output_type": "stream",
          "name": "stdout",
          "text": [
            "[[ 4  5]\n",
            " [ 8 10]\n",
            " [12 15]]\n"
          ]
        }
      ]
    },
    {
      "cell_type": "markdown",
      "source": [
        "#matplotlib"
      ],
      "metadata": {
        "id": "LQNIgrwgA43O"
      }
    },
    {
      "cell_type": "code",
      "source": [
        "import matplotlib.pyplot as plt"
      ],
      "metadata": {
        "id": "QfR8Ezr6A0ZQ"
      },
      "execution_count": null,
      "outputs": []
    },
    {
      "cell_type": "code",
      "source": [
        "x = np.arange(-100,100,0.5) # Return evenly spaced values within a given interval\n",
        "y = x**2"
      ],
      "metadata": {
        "id": "_PDfsj67A84V"
      },
      "execution_count": null,
      "outputs": []
    },
    {
      "cell_type": "code",
      "source": [
        "plt.plot(x,y)\n",
        "plt.xlabel('X-axis')\n",
        "plt.ylabel('Y-label')\n",
        "plt.show()"
      ],
      "metadata": {
        "colab": {
          "base_uri": "https://localhost:8080/",
          "height": 449
        },
        "id": "z7yny5cSBAbt",
        "outputId": "7e79f5e4-957c-4553-adbd-2944953fd530"
      },
      "execution_count": null,
      "outputs": [
        {
          "output_type": "display_data",
          "data": {
            "text/plain": [
              "<Figure size 640x480 with 1 Axes>"
            ],
            "image/png": "[encoded data removed]"
          },
          "metadata": {}
        }
      ]
    },
    {
      "cell_type": "code",
      "source": [
        "x = np.arange(1,101)\n",
        "print(x)\n",
        "print(x.shape)\n",
        "marks = np.random.randint(1,100,100)\n",
        "marks1 = np.random.randint(1,100,100)\n",
        "width = 0.5\n",
        "plt.bar(x,marks)\n",
        "plt.show()"
      ],
      "metadata": {
        "colab": {
          "base_uri": "https://localhost:8080/",
          "height": 552
        },
        "id": "WxFHzyfCBFbS",
        "outputId": "512e5136-f919-4b07-e418-3bd9ab21b0c3"
      },
      "execution_count": null,
      "outputs": [
        {
          "output_type": "stream",
          "name": "stdout",
          "text": [
            "[  1   2   3   4   5   6   7   8   9  10  11  12  13  14  15  16  17  18\n",
            "  19  20  21  22  23  24  25  26  27  28  29  30  31  32  33  34  35  36\n",
            "  37  38  39  40  41  42  43  44  45  46  47  48  49  50  51  52  53  54\n",
            "  55  56  57  58  59  60  61  62  63  64  65  66  67  68  69  70  71  72\n",
            "  73  74  75  76  77  78  79  80  81  82  83  84  85  86  87  88  89  90\n",
            "  91  92  93  94  95  96  97  98  99 100]\n",
            "(100,)\n"
          ]
        },
        {
          "output_type": "display_data",
          "data": {
            "text/plain": [
              "<Figure size 640x480 with 1 Axes>"
            ],
            "image/png": "[encoded data removed]"
          },
          "metadata": {}
        }
      ]
    },
    {
      "cell_type": "code",
      "source": [
        "plt.plot(x,marks,'*') # displaying points\n",
        "plt.plot(x,marks1,'+')\n",
        "plt.show()"
      ],
      "metadata": {
        "colab": {
          "base_uri": "https://localhost:8080/",
          "height": 430
        },
        "id": "nkNTIylPBL12",
        "outputId": "d56a642e-3ea5-41ae-e3ba-9efffbaed791"
      },
      "execution_count": null,
      "outputs": [
        {
          "output_type": "display_data",
          "data": {
            "text/plain": [
              "<Figure size 640x480 with 1 Axes>"
            ],
            "image/png": "[encoded data removed]"
          },
          "metadata": {}
        }
      ]
    }
  ]
}